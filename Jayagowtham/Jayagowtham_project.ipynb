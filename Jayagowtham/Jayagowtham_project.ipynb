{
 "cells": [
  {
   "cell_type": "code",
   "execution_count": 1,
   "id": "7e132012-2504-4123-a1e3-fc60feb59f71",
   "metadata": {},
   "outputs": [],
   "source": [
    "#importing the necessary libraries\n",
    "import numpy as np\n",
    "import matplotlib.pyplot as plt\n",
    "import gmsh\n",
    "import time\n",
    "import pylab as pl\n",
    "import gmsh\n",
    "from IPython import display\n",
    "from matplotlib.path import Path\n",
    "from scipy.sparse import coo_array\n",
    "from collections import Counter\n",
    "%matplotlib inline\n",
    "import scipy\n",
    "import time\n",
    "from multiprocessing import Pool\n",
    "from worker import matrix_helper"
   ]
  },
  {
   "cell_type": "code",
   "execution_count": 2,
   "id": "59a86fba-2cbe-4735-84f2-904f24c3daf1",
   "metadata": {},
   "outputs": [],
   "source": [
    "def read_mesh(filepath):\n",
    "    '''\n",
    "    Takes in an msh file and should return nodal coordinates and element connectivity in each physical group along with the boundary nodes \n",
    "    '''\n",
    "    gmsh.initialize()\n",
    "    gmsh.open(filepath)\n",
    "    print(f\"Reading {filepath}\")\n",
    "    print(f\"Number of nodes in the mesh: {int(gmsh.option.getNumber(\"Mesh.NbNodes\"))}\")\n",
    "    print(f\"Number of triangles in the mesh: {int(gmsh.option.getNumber(\"Mesh.NbTriangles\"))}\\n\")\n",
    "\n",
    "    #Get all nodes\n",
    "    dim = -1\n",
    "    tag = -1\n",
    "    nodeTags, nodecoords, _ = gmsh.model.mesh.getNodes(dim,tag)\n",
    "    nodecoords = nodecoords.reshape(-1,3) #tags start from 1\n",
    "\n",
    "    #Get all triangles\n",
    "    eleType = 2\n",
    "    tag = -1\n",
    "    elements_t,ele_con = gmsh.model.mesh.getElementsByType(eleType,-1)\n",
    "    ele_con = ele_con.reshape(-1,3)  #tags start from 1\n",
    "\n",
    "\n",
    "    gmsh.finalize()\n",
    "    return [nodecoords,ele_con] "
   ]
  },
  {
   "cell_type": "code",
   "execution_count": 3,
   "id": "575334c1-9f5c-4494-8789-8f5e9cb2b4be",
   "metadata": {},
   "outputs": [],
   "source": [
    "def Q(point,centre,ro):\n",
    "    x = point[0,0] - centre[0,0]\n",
    "    y = point[0,1] - centre[0,1]\n",
    "    Qo = 5 ## amplitude in W/mm^2 \n",
    "    return Qo*np.exp(-(x**2+y**2)/ro**2)  ## W/m^3\n",
    "\n",
    "def rho_Ti(T, phase = 'alpha'):\n",
    "    if phase == 'alpha':\n",
    "        return -5.13e-5*(T**2)-0.01935*T+4451\n",
    "    elif phase == 'beta':\n",
    "        return -2.762e-6*(T**2)-0.1663*T+4468\n",
    "    elif phase == 'liquid':\n",
    "        return -0.565*T+5093\n",
    "    else:\n",
    "        return T\n",
    "\n",
    "def cp_Ti(T,phase = 'alpha'):\n",
    "    if phase == 'alpha':\n",
    "        return 0.25*T+483\n",
    "    elif phase == 'beta':\n",
    "        return 0.14*T+530\n",
    "    elif phase == 'liquid':\n",
    "        return 930\n",
    "    else:\n",
    "        return T\n",
    "\n",
    "def k_Ti(T,phase = 'alpha'):\n",
    "    if phase == 'alpha':\n",
    "        return 0.012*T+3.3\n",
    "    elif phase == 'beta':\n",
    "        return 0.016*T-3\n",
    "    elif phase == 'liquid':\n",
    "        return 0.0175*T-4.5\n",
    "    else:\n",
    "        return T\n",
    "\n",
    "def props_chooser(T, T_rep, process = 'heating'):\n",
    "    if (T_rep<1268 and process == 'heating') or (T_rep<=1073 and process == 'cooling'):\n",
    "        return rho_Ti(T,phase = 'alpha'),cp_Ti(T,phase = 'alpha'),k_Ti(T,phase = 'alpha')\n",
    "    elif (T_rep<1928 and process == 'heating') or (T_rep>1073 and process == 'cooling'):\n",
    "        return rho_Ti(T,phase = 'beta'),cp_Ti(T,phase = 'beta'),k_Ti(T,phase = 'beta')\n",
    "    elif (T_rep>=1928 and process == 'heating') or (T_rep>=1878 and process == 'cooling'):\n",
    "        return rho_Ti(T,phase = 'liquid'),cp_Ti(T,phase = 'liquid'),k_Ti(T,phase = 'liquid')\n",
    "    else:\n",
    "        return -1\n",
    "        \n",
    "def flatten(xss):\n",
    "    return [x for xs in xss for x in xs]   "
   ]
  },
  {
   "cell_type": "code",
   "execution_count": 18,
   "id": "fc115e42-202e-4172-885a-11035b9aaa33",
   "metadata": {},
   "outputs": [],
   "source": [
    "class FEM:\n",
    "    def __init__(self,nodecoords,elecon,centre):\n",
    "        self.data_line = {\"ips\":{2:[-1/np.sqrt(3),1/np.sqrt(3)],3:[-np.sqrt(3/5),0,np.sqrt(3/5)]},\\\n",
    "        \"weights\":{2:[1,1],3:[5/9,8/9,5/9]}}\n",
    "        self.data_tle = {\"ips\":{1:[[1/3,1/3]],3:[[1/6,1/6],[1/6,2/3],[2/3,1/6]]},\\\n",
    "       \"weights\":{1:[1/2],3:[1/6,1/6,1/6]}}\n",
    "        self.nodecoords = nodecoords\n",
    "        self.elecon = elecon\n",
    "        self.K_row,self.K_col,self.K_data = [],[],[]\n",
    "        self.G_row,self.G_col,self.G_data = [],[],[]\n",
    "        self.nop = nodecoords.shape[0]\n",
    "        self.F = np.zeros((self.nop,1))\n",
    "        self.boundary_term = np.zeros((self.nop,1))\n",
    "        self.areas = []\n",
    "        self.centre = centre\n",
    "    \n",
    "    def fit_ele(self,nodes,ele,theta_prev_time = None,theta_prev_pic = None,mode = \"linear\",verbose = False):\n",
    "        '''\n",
    "        Return mass and stiffness matrices alongside the forcing vector\n",
    "        '''\n",
    "\n",
    "        self.nodecoords = nodes\n",
    "        self.elecon = ele\n",
    "        \n",
    "        gp = 3\n",
    "\n",
    "        qo = -1e-3   # W/mm^2\n",
    "        c = 658 #J/kg.K\n",
    "        rho = 7.6e-6 #kg/mm^3\n",
    "        kappa = 0.025 #W/mm.K\n",
    "        ro = 2 #mm\n",
    "        vo = 2 #mm/s\n",
    "        \n",
    "        #getting in the required data and doing the initialization\n",
    "        nop = nodes.shape[0]\n",
    "        ips = np.array(self.data_tle[\"ips\"][gp])\n",
    "        weights = np.array(self.data_tle[\"weights\"][gp])\n",
    "\n",
    "        K = np.zeros((nop,nop))\n",
    "        G = np.zeros((nop,nop))\n",
    "        K_row,K_col,K_data = [],[],[]\n",
    "        G_row,G_col,G_data = [],[],[]\n",
    "        # F = np.zeros((nop,1))\n",
    "        # boundary_term = np.zeros((nop,1))\n",
    "\n",
    "        ln = np.where(nodes[:,0] == 0)[0]\n",
    "        rn = np.where(nodes[:,0] == np.max(nodes[:,0]))[0]\n",
    "        bn = np.where(nodes[:,1] == 0)[0]\n",
    "        tn = np.where(nodes[:,1] == np.max(nodes[:,1]))[0]\n",
    "\n",
    "        items = [(nodes,elei,self.centre,theta_prev_time,theta_prev_pic,mode) for elei in ele]\n",
    "        st = time.time()\n",
    "        with Pool() as pool:\n",
    "            results = pool.map(matrix_helper, items)\n",
    "\n",
    "        K_row, K_col, K_data, G_row, G_col, G_data, F_row,F_data, BT_row, BT_data,areas = list(zip(*results))\n",
    "        mega = [K_row, K_col, K_data, G_row, G_col, G_data, F_row,F_data, BT_row, BT_data]\n",
    "        K_row, K_col, K_data, G_row, G_col, G_data, F_row,F_data, BT_row, BT_data = [flatten(mini) for mini in mega]\n",
    "\n",
    "        F= coo_array((F_data,(F_row,[0]*len(F_row))),shape = ((nop,1))).toarray()\n",
    "        boundary_term = coo_array((BT_data,(BT_row,[0]*len(BT_row))),shape = ((nop,1))).toarray()\n",
    "        # for elei in ele:\n",
    "        #     self.matrix_helper(elei,theta_prev_time = theta_prev_time,theta_prev_pic = theta_prev_pic,mode = mode)\n",
    "\n",
    "        \n",
    "        if verbose == True:\n",
    "            print(f\"Mesh size is {np.sqrt(np.mean(areas))}\")\n",
    "            print(f\"Spot radius is {ro}\")\n",
    "        T_l = 273+20\n",
    "\n",
    "        print(f\"Time for loop to end {time.time()-st}\")\n",
    "        st = time.time()\n",
    "        K_sparse = coo_array((K_data,(K_row,K_col)),shape=(nop,nop))\n",
    "        G_sparse = coo_array((G_data,(G_row,G_col)),shape=(nop,nop))\n",
    "        print(f\"Time for sparse conversion {time.time()-st}\")\n",
    "\n",
    "        st = time.time()\n",
    "        K = K_sparse.toarray()\n",
    "        G = G_sparse.toarray()\n",
    "        print(f\"Time for sparse to dense conversion {time.time()-st}\")\n",
    "        \n",
    "        non_ln = np.setdiff1d(np.arange(K.shape[0]),ln)\n",
    "        rhs = F+boundary_term-T_l*np.sum((K[np.ix_(np.arange(K.shape[0]),ln)]\\\n",
    "                                          +G[np.ix_(np.arange(K.shape[0]),ln)]),axis = 1).reshape(-1,1)\n",
    "        K_sub = K[np.ix_(non_ln,non_ln)]\n",
    "        G_sub = G[np.ix_(non_ln,non_ln)]\n",
    "        rhs_sub = rhs[np.ix_(non_ln,[0])]\n",
    "\n",
    "        K_sparse = coo_array(K_sub)\n",
    "        G_sparse = coo_array(G_sub)\n",
    "        rhs_sparse = coo_array(rhs_sub)\n",
    "        st = time.time()\n",
    "        theta_sub = scipy.sparse.linalg.spsolve(K_sparse+G_sparse,rhs_sparse)\n",
    "        print(f\"Time for inversion {time.time()-st}\")\n",
    "\n",
    "        theta = np.zeros((K.shape[0],1))+T_l\n",
    "        theta[non_ln,:] = theta_sub.reshape(-1,1)\n",
    "        \n",
    "        return [K,G,F,boundary_term,theta]\n"
   ]
  },
  {
   "cell_type": "code",
   "execution_count": 19,
   "id": "303a5aa2-7eab-4068-9afe-901ae32b8f14",
   "metadata": {},
   "outputs": [],
   "source": [
    "mesh_size_factor = 2"
   ]
  },
  {
   "cell_type": "code",
   "execution_count": 20,
   "id": "cdb95997-94dd-4aa9-bfee-e40d3e066f09",
   "metadata": {},
   "outputs": [
    {
     "name": "stdout",
     "output_type": "stream",
     "text": [
      "Reading rectangle_2.msh\n",
      "Number of nodes in the mesh: 1542\n",
      "Number of triangles in the mesh: 2932\n",
      "\n",
      "Mesh size is 1.3058792441389253\n",
      "Spot radius is 2\n",
      "Time for loop to end 0.7950313091278076\n",
      "Time for sparse conversion 0.03124260902404785\n",
      "Time for sparse to dense conversion 0.01562190055847168\n",
      "Time for inversion 0.0\n"
     ]
    }
   ],
   "source": [
    "filename = f\"rectangle_{mesh_size_factor}.msh\"\n",
    "# filename = f\"rectangle_vary_0.5_1.msh\"\n",
    "nodecoords,ele_con = read_mesh(filename) #node tags start from 1\n",
    "soln1 = FEM(nodecoords,ele_con,np.array([[50,25]]))\n",
    "K,G,F,boundary,theta = soln1.fit_ele(nodecoords,ele_con,verbose = True)"
   ]
  },
  {
   "cell_type": "code",
   "execution_count": 21,
   "id": "3a7a8bf7-9ade-4f8b-af49-95f7c41286be",
   "metadata": {},
   "outputs": [
    {
     "name": "stdout",
     "output_type": "stream",
     "text": [
      "0.25000000000000006\n"
     ]
    }
   ],
   "source": [
    "print(np.sum(boundary))"
   ]
  },
  {
   "cell_type": "code",
   "execution_count": 7,
   "id": "32b08eff-46c3-429f-a47d-91ec18c26826",
   "metadata": {},
   "outputs": [
    {
     "name": "stdout",
     "output_type": "stream",
     "text": [
      "1.1796119636642288e-15\n"
     ]
    }
   ],
   "source": [
    "print(np.sum(K))"
   ]
  },
  {
   "cell_type": "code",
   "execution_count": 8,
   "id": "e598e5a6-3573-4503-b0b2-78aec7096b82",
   "metadata": {},
   "outputs": [
    {
     "data": {
      "image/png": "[encoded data removed]",
      "text/plain": [
       "<Figure size 640x480 with 2 Axes>"
      ]
     },
     "metadata": {},
     "output_type": "display_data"
    }
   ],
   "source": [
    "plt.tricontourf(nodecoords[:,0],nodecoords[:,1],theta.flatten())\n",
    "plt.colorbar()\n",
    "plt.show()"
   ]
  },
  {
   "cell_type": "code",
   "execution_count": 9,
   "id": "1a8846f2-d65d-4dc9-a89c-1df918405f9a",
   "metadata": {},
   "outputs": [
    {
     "name": "stdout",
     "output_type": "stream",
     "text": [
      "868.7619154376979\n"
     ]
    }
   ],
   "source": [
    "print(np.max(theta))"
   ]
  },
  {
   "cell_type": "code",
   "execution_count": 10,
   "id": "89fb9481-75cf-4ca8-98ea-5ce7389bcdbc",
   "metadata": {},
   "outputs": [
    {
     "data": {
      "image/png": "[encoded data removed]",
      "text/plain": [
       "<Figure size 640x480 with 2 Axes>"
      ]
     },
     "metadata": {},
     "output_type": "display_data"
    }
   ],
   "source": [
    "### Plotting the gaussian\n",
    "plt.tricontourf(nodecoords[:,0],nodecoords[:,1], F.flatten(),cmap = 'jet')\n",
    "plt.colorbar()\n",
    "plt.gca().set_aspect('equal')\n",
    "plt.show()"
   ]
  },
  {
   "cell_type": "markdown",
   "id": "45f8c9f4-5edb-4216-809e-9c22b32506c3",
   "metadata": {},
   "source": [
    "## Picard iteration for moving source heat conduction"
   ]
  },
  {
   "cell_type": "code",
   "execution_count": 19,
   "id": "3438ea92-8170-4b0c-afdd-db05a0a89154",
   "metadata": {},
   "outputs": [],
   "source": [
    "def picard(nodecoords,ele_con,theta_init,source):\n",
    "## the idea is you initialize a temperature profile and find corresponding multipliers for the non linear terms\n",
    "    #non is number of nodes\n",
    "    theta_old = theta_init\n",
    "\n",
    "    e = 1e5\n",
    "    tolerance = 1e-4\n",
    "    iter = 0\n",
    "    \n",
    "    while(e>tolerance):\n",
    "        iter +=1\n",
    "        _,_,_,_,theta_new = FEM(nodecoords,ele_con,source).fit_ele(nodecoords,ele_con,theta_prev_time = theta_init,theta_prev_pic = theta_old,mode = \"non_linear\")\n",
    "        e = np.linalg.norm(theta_new - theta_old)\n",
    "        theta_old = theta_new\n",
    "        print(f\"Error at {iter} iteration is {e:.2E}\")\n",
    "        # print(theta_init)\n",
    "\n",
    "    plt.tricontourf(nodecoords[:,0],nodecoords[:,1],theta_new.flatten())\n",
    "    plt.title(f\"Converged solution after {iter} iterations\")\n",
    "    plt.colorbar()\n",
    "    plt.show()\n",
    "\n",
    "    return theta_new\n",
    "        \n",
    "        "
   ]
  },
  {
   "cell_type": "code",
   "execution_count": null,
   "id": "89382065-5f68-4ec2-aa1b-7d43a3bef0be",
   "metadata": {},
   "outputs": [
    {
     "name": "stdout",
     "output_type": "stream",
     "text": [
      "Time is 0 seconds\n",
      "Time for loop to end 9.735425233840942\n",
      "Time for sparse conversion 0.24905848503112793\n",
      "Time for sparse to dense conversion 0.15459299087524414\n",
      "Time for inversion 0.9836187362670898\n",
      "Error at 1 iteration is 8.44E+04\n",
      "Time for loop to end 9.76410460472107\n",
      "Time for sparse conversion 0.23567628860473633\n",
      "Time for sparse to dense conversion 0.09644317626953125\n",
      "Time for inversion 0.1283261775970459\n",
      "Error at 2 iteration is 1.12E+04\n",
      "Time for loop to end 6.321472883224487\n",
      "Time for sparse conversion 0.21796107292175293\n",
      "Time for sparse to dense conversion 0.16020512580871582\n",
      "Time for inversion 0.10980486869812012\n",
      "Error at 3 iteration is 1.61E+03\n",
      "Time for loop to end 6.72988486289978\n",
      "Time for sparse conversion 0.26596593856811523\n",
      "Time for sparse to dense conversion 0.14502811431884766\n",
      "Time for inversion 0.10985898971557617\n",
      "Error at 4 iteration is 4.52E+02\n",
      "Time for loop to end 6.122761487960815\n",
      "Time for sparse conversion 0.20427441596984863\n",
      "Time for sparse to dense conversion 0.1097402572631836\n",
      "Time for inversion 0.07853102684020996\n",
      "Error at 5 iteration is 9.52E+01\n",
      "Time for loop to end 5.2309792041778564\n",
      "Time for sparse conversion 0.24743056297302246\n",
      "Time for sparse to dense conversion 0.1786050796508789\n",
      "Time for inversion 0.08540034294128418\n",
      "Error at 6 iteration is 2.33E+01\n",
      "Time for loop to end 5.27730655670166\n",
      "Time for sparse conversion 0.2569286823272705\n",
      "Time for sparse to dense conversion 0.13226985931396484\n",
      "Time for inversion 0.08762884140014648\n",
      "Error at 7 iteration is 7.13E+00\n",
      "Time for loop to end 5.286017656326294\n",
      "Time for sparse conversion 0.22011852264404297\n",
      "Time for sparse to dense conversion 0.10471081733703613\n",
      "Time for inversion 0.06311869621276855\n",
      "Error at 8 iteration is 1.94E+00\n",
      "Time for loop to end 6.094275951385498\n",
      "Time for sparse conversion 0.2822132110595703\n",
      "Time for sparse to dense conversion 0.11658954620361328\n",
      "Time for inversion 0.10275506973266602\n",
      "Error at 9 iteration is 4.71E-01\n",
      "Time for loop to end 5.4916160106658936\n",
      "Time for sparse conversion 0.21277666091918945\n",
      "Time for sparse to dense conversion 0.1476755142211914\n",
      "Time for inversion 0.07861471176147461\n",
      "Error at 10 iteration is 1.42E-01\n",
      "Time for loop to end 5.5977942943573\n",
      "Time for sparse conversion 0.3008880615234375\n",
      "Time for sparse to dense conversion 0.17343735694885254\n",
      "Time for inversion 0.07852458953857422\n",
      "Error at 11 iteration is 4.07E-02\n",
      "Time for loop to end 5.886881351470947\n",
      "Time for sparse conversion 0.29427123069763184\n",
      "Time for sparse to dense conversion 0.18782520294189453\n",
      "Time for inversion 0.10028672218322754\n",
      "Error at 12 iteration is 9.90E-03\n",
      "Time for loop to end 6.158775091171265\n",
      "Time for sparse conversion 0.2042405605316162\n",
      "Time for sparse to dense conversion 0.20291519165039062\n",
      "Time for inversion 0.04650735855102539\n",
      "Error at 13 iteration is 2.88E-03\n",
      "Time for loop to end 5.825035095214844\n",
      "Time for sparse conversion 0.27292823791503906\n",
      "Time for sparse to dense conversion 0.10935735702514648\n",
      "Time for inversion 0.08456897735595703\n",
      "Error at 14 iteration is 8.57E-04\n",
      "Time for loop to end 5.813399791717529\n",
      "Time for sparse conversion 0.28882741928100586\n",
      "Time for sparse to dense conversion 0.12097978591918945\n",
      "Time for inversion 0.06291413307189941\n",
      "Error at 15 iteration is 2.11E-04\n",
      "Time for loop to end 5.737476825714111\n",
      "Time for sparse conversion 0.3549323081970215\n",
      "Time for sparse to dense conversion 0.14439177513122559\n",
      "Time for inversion 0.08171772956848145\n",
      "Error at 16 iteration is 5.89E-05\n"
     ]
    },
    {
     "data": {
      "image/png": "[encoded data removed]",
      "text/plain": [
       "<Figure size 640x480 with 2 Axes>"
      ]
     },
     "metadata": {},
     "output_type": "display_data"
    },
    {
     "name": "stdout",
     "output_type": "stream",
     "text": [
      "Time is 1 seconds\n",
      "Time for loop to end 6.135739803314209\n"
     ]
    }
   ],
   "source": [
    "T_l = 273+1000\n",
    "t_final = 10\n",
    "times = np.arange(0,t_final,1)\n",
    "theta_init = np.zeros((nodecoords.shape[0],1))+T_l\n",
    "theta_prev = theta_init\n",
    "#Let's move the source\n",
    "x_source = 50\n",
    "for t in times:\n",
    "    print(f\"Time is {t} seconds\")\n",
    "    theta_final = picard(nodecoords,ele_con,theta_prev,source = np.array([[x_source+2*t,25]]))\n",
    "    theta_prev = theta_final"
   ]
  },
  {
   "cell_type": "code",
   "execution_count": 119,
   "id": "09ec4a9c-1fb8-46b6-9613-604ac4129995",
   "metadata": {},
   "outputs": [
    {
     "data": {
      "text/plain": [
       "np.float64(1299.4449254020838)"
      ]
     },
     "execution_count": 119,
     "metadata": {},
     "output_type": "execute_result"
    }
   ],
   "source": [
    "np.max(theta_final)"
   ]
  },
  {
   "cell_type": "markdown",
   "id": "1a49a5d6-a39f-4b50-a4a3-c6d32e4c0c39",
   "metadata": {},
   "source": [
    "## Picard iteration validation"
   ]
  },
  {
   "cell_type": "code",
   "execution_count": 13,
   "id": "52f28662-cc32-4fc3-9635-2c6e1d47c480",
   "metadata": {},
   "outputs": [],
   "source": [
    "def Q(point):\n",
    "    x = point[0,0] #in mm\n",
    "    return 15e-3*(x/100)*(1-x/100) ## W/mm^3\n",
    "\n",
    "def k_T(T):\n",
    "    # return np.ones_like(T)*110\n",
    "    return (100+0.004*(T-50-273)**2)*1e-3  ##W/mmK"
   ]
  },
  {
   "cell_type": "code",
   "execution_count": 14,
   "id": "403f41a2-81b4-43c1-a9b3-b525176962ca",
   "metadata": {},
   "outputs": [],
   "source": [
    "class Picard_valid:\n",
    "    def __init__(self):\n",
    "        self.data_line = {\"ips\":{2:[-1/np.sqrt(3),1/np.sqrt(3)],3:[-np.sqrt(3/5),0,np.sqrt(3/5)]},\\\n",
    "        \"weights\":{2:[1,1],3:[5/9,8/9,5/9]}}\n",
    "        self.data_tle = {\"ips\":{1:[[1/3,1/3]],3:[[1/6,1/6],[1/6,2/3],[2/3,1/6]]},\\\n",
    "       \"weights\":{1:[1/2],3:[1/6,1/6,1/6]}}\n",
    "                        \n",
    "    def fit_ele(self,nodes,ele,dt,theta_prev_time = None,theta_prev_pic = None,mode = \"linear\",scheme = \"implicit\"):\n",
    "        '''\n",
    "        Return mass and stiffness matrices alongside the forcing vector\n",
    "        '''\n",
    "        gp = 3\n",
    "\n",
    "        qo = 0   # W/mm^2\n",
    "        c = 465 #J/kg.K\n",
    "        rho = 7e-6 #kg/mm^3\n",
    "        \n",
    "        #getting in the required data and doing the initialization\n",
    "        nop = nodes.shape[0]\n",
    "        ips = np.array(self.data_tle[\"ips\"][gp])\n",
    "        weights = np.array(self.data_tle[\"weights\"][gp])\n",
    "\n",
    "        K = np.zeros((nop,nop))\n",
    "        M = np.zeros((nop,nop))\n",
    "        F = np.zeros((nop,1))\n",
    "        boundary_term = np.zeros((nop,1))\n",
    "\n",
    "        ln = np.where(nodes[:,0] == 0)[0]\n",
    "        rn = np.where(nodes[:,0] == np.max(nodes[:,0]))[0]\n",
    "        bn = np.where(nodes[:,1] == 0)[0]\n",
    "        tn = np.where(nodes[:,1] == np.max(nodes[:,1]))[0]\n",
    "\n",
    "        for i,elei in enumerate(ele):\n",
    "            econ = elei-1\n",
    "            boundary = nodes[np.ix_(econ,[0,1])]\n",
    "            dN = np.array([[-1,1,0],[-1,0,1]])\n",
    "            Jac = np.matmul(dN,boundary)\n",
    "            if np.linalg.det(Jac)<0:\n",
    "                econ[0],econ[1] = econ[1],econ[0] #reordering for the direction to be counter clockwise\n",
    "                boundary = nodes[np.ix_(econ,[0,1])] \n",
    "                Jac = np.matmul(dN,boundary)\n",
    "            dN_dx = (np.linalg.inv(Jac)@dN)[0].reshape(1,-1) #1x3\n",
    "            Jac_inv = np.linalg.inv(Jac)\n",
    "            for j,ipj in enumerate(ips):\n",
    "                N = np.array([[(1-ipj[0]-ipj[1]), ipj[0],ipj[1]]])\n",
    "                a = (Jac_inv@dN).T@(Jac_inv@dN)*(np.linalg.det(Jac))*weights[j]\n",
    "                b = N.T@dN_dx*(np.linalg.det(Jac))*weights[j]\n",
    "                m = np.matmul(N.T,N)*np.linalg.det(Jac)*weights[j]\n",
    "                if mode == \"non_linear\":\n",
    "                    kappa = N@k_T(theta_prev_pic[np.ix_(econ,[0])])\n",
    "                K[np.ix_(econ,econ)] += kappa*a\n",
    "                M[np.ix_(econ,econ)] += rho*c*m\n",
    "                # G[np.ix_(econ,econ)] += rho*c*vo*b\n",
    "                X  =np.matmul(N,boundary)\n",
    "                f = N*Q(X)*np.linalg.det(Jac)*weights[j]\n",
    "                F[np.ix_(econ,[0])] +=f.T\n",
    "\n",
    "\n",
    "        T_b = 273+100\n",
    "        non_bn = np.setdiff1d(np.arange(K.shape[0]),bn)\n",
    "        rhs = (F+boundary_term+M@theta_prev_time/dt)\\\n",
    "               -T_b*np.sum(K[np.ix_(np.arange(K.shape[0]),bn)]+M[np.ix_(np.arange(K.shape[0]),bn)]/dt,axis = 1).reshape(-1,1)\n",
    "        K_sub = K[np.ix_(non_bn,non_bn)]\n",
    "        M_sub = M[np.ix_(non_bn,non_bn)]\n",
    "        rhs_sub = rhs[np.ix_(non_bn,[0])]\n",
    "        # print(K_sub)\n",
    "        # print(np.sum(M_sub))\n",
    "        # print(K_sub+M_sub/dt)\n",
    "        # print(\"inverter:\",np.sum(np.linalg.inv(K_sub+M_sub/dt)))\n",
    "        # print(\"multiplier:\",np.sum(((F+boundary_term+M@(theta_prev_time-273)/dt)\\\n",
    "        #        -(T_b-273)*np.sum(K[np.ix_(np.arange(K.shape[0]),bn)]+M[np.ix_(np.arange(K.shape[0]),bn)]/dt,axis = 1).reshape(-1,1))[np.ix_(non_bn,[0])]))\n",
    "        # return\n",
    "        theta_sub = np.linalg.inv(K_sub+M_sub/dt)@(rhs_sub)\n",
    "\n",
    "        theta = np.zeros((K.shape[0],1))+T_b\n",
    "        theta[non_bn,:] = theta_sub.reshape(-1,1)\n",
    "        \n",
    "        return [M,K,F,boundary_term,theta]"
   ]
  },
  {
   "cell_type": "code",
   "execution_count": 15,
   "id": "f794677e-f979-43b2-8672-c993212b8720",
   "metadata": {},
   "outputs": [],
   "source": [
    "def picard(soln,nodecoords,ele_con,theta_init):\n",
    "## the idea is you initialize a temperature profile and find corresponding multipliers for the non linear terms\n",
    "    #non is number of nodes\n",
    "\n",
    "    dt = 1\n",
    "    times = np.arange(0,10,dt)\n",
    "    theta_prev_time = theta_init\n",
    "    \n",
    "    for t in times:\n",
    "        if t == round(t):\n",
    "            print(np.min(theta_prev_time)-273,' at ',nodecoords[np.argmin(theta_prev_time)])\n",
    "            print(np.max(theta_prev_time)-273,' at ',nodecoords[np.argmax(theta_prev_time)])\n",
    "        e = 1e5\n",
    "        tolerance = 1e-4\n",
    "        iter = 0\n",
    "        theta_prev_pic = theta_prev_time\n",
    "        while(e>tolerance):\n",
    "            iter +=1\n",
    "            ## Implicit formulation \n",
    "            M,K,F,boundary_term,theta_new = soln.fit_ele(nodecoords,ele_con,dt,theta_prev_time = theta_prev_time,theta_prev_pic = theta_prev_pic,mode = \"non_linear\",scheme = \"implicit\")\n",
    "            # print(\"M:\",np.sum(M))\n",
    "            # print(\"K:\",np.sum(K))\n",
    "            # print(\"F:\",np.sum(F))\n",
    "            # print(\"boundary_term:\",np.sum(boundary_term))\n",
    "            e = np.linalg.norm(theta_new - theta_prev_pic)\n",
    "            theta_prev_pic = theta_new\n",
    "            if t == round(t):\n",
    "                print(f\"Error at {iter} iteration at time {t} is {e:.2E}\")\n",
    "        # print(np.any(boundary_term))  confirmation that b.t isn't contributing\n",
    "        theta_prev_time = theta_new\n",
    "        \n",
    "    plt.tricontourf(nodecoords[:,0],nodecoords[:,1],theta_new.flatten()-273, cmap = 'plasma')\n",
    "    plt.title(f\"Converged solution\")\n",
    "    plt.colorbar()\n",
    "    plt.show()\n",
    "\n",
    "    return theta_new\n",
    "        "
   ]
  },
  {
   "cell_type": "code",
   "execution_count": 16,
   "id": "47227b33-d3b8-4e17-af6a-a5599fe15156",
   "metadata": {},
   "outputs": [
    {
     "name": "stdout",
     "output_type": "stream",
     "text": [
      "Reading square_3.msh\n",
      "Number of nodes in the mesh: 380\n",
      "Number of triangles in the mesh: 690\n",
      "\n"
     ]
    }
   ],
   "source": [
    "mesh_size_factor = 3\n",
    "filename = f\"square_{mesh_size_factor}.msh\"\n",
    "nodecoords,ele_con = read_mesh(filename) #node tags start from 1"
   ]
  },
  {
   "cell_type": "code",
   "execution_count": 17,
   "id": "709f0f03-7f36-47e8-b5bc-a25e6426cce3",
   "metadata": {},
   "outputs": [
    {
     "name": "stdout",
     "output_type": "stream",
     "text": [
      "50.0  at  [100. 100.   0.]\n",
      "50.0  at  [100. 100.   0.]\n",
      "Error at 1 iteration at time 0 is 2.34E+02\n",
      "Error at 2 iteration at time 0 is 3.52E+00\n",
      "Error at 3 iteration at time 0 is 3.69E-02\n",
      "Error at 4 iteration at time 0 is 2.79E-04\n",
      "Error at 5 iteration at time 0 is 1.79E-06\n",
      "50.21715085157712  at  [100. 100.   0.]\n",
      "100.0  at  [100.   0.   0.]\n",
      "Error at 1 iteration at time 1 is 6.46E+01\n",
      "Error at 2 iteration at time 1 is 4.82E-01\n",
      "Error at 3 iteration at time 1 is 2.65E-03\n",
      "Error at 4 iteration at time 1 is 1.24E-05\n",
      "50.5384875579075  at  [100. 100.   0.]\n",
      "100.0  at  [100.   0.   0.]\n",
      "Error at 1 iteration at time 2 is 4.52E+01\n",
      "Error at 2 iteration at time 2 is 2.56E-01\n",
      "Error at 3 iteration at time 2 is 1.29E-03\n",
      "Error at 4 iteration at time 2 is 1.17E-05\n",
      "50.92924218714677  at  [100. 100.   0.]\n",
      "100.0  at  [100.   0.   0.]\n",
      "Error at 1 iteration at time 3 is 3.69E+01\n",
      "Error at 2 iteration at time 3 is 1.62E-01\n",
      "Error at 3 iteration at time 3 is 9.17E-04\n",
      "Error at 4 iteration at time 3 is 8.05E-06\n",
      "51.37260906571083  at  [100. 100.   0.]\n",
      "100.0  at  [100.   0.   0.]\n",
      "Error at 1 iteration at time 4 is 3.23E+01\n",
      "Error at 2 iteration at time 4 is 1.15E-01\n",
      "Error at 3 iteration at time 4 is 6.96E-04\n",
      "Error at 4 iteration at time 4 is 5.51E-06\n",
      "51.85841986172528  at  [100. 100.   0.]\n",
      "100.0  at  [100.   0.   0.]\n",
      "Error at 1 iteration at time 5 is 2.92E+01\n",
      "Error at 2 iteration at time 5 is 8.83E-02\n",
      "Error at 3 iteration at time 5 is 5.41E-04\n",
      "Error at 4 iteration at time 5 is 3.93E-06\n",
      "52.379818105181585  at  [100. 100.   0.]\n",
      "100.0  at  [100.   0.   0.]\n",
      "Error at 1 iteration at time 6 is 2.71E+01\n",
      "Error at 2 iteration at time 6 is 7.12E-02\n",
      "Error at 3 iteration at time 6 is 4.29E-04\n",
      "Error at 4 iteration at time 6 is 2.91E-06\n",
      "52.93194302147805  at  [100. 100.   0.]\n",
      "100.0  at  [100.   0.   0.]\n",
      "Error at 1 iteration at time 7 is 2.55E+01\n",
      "Error at 2 iteration at time 7 is 5.96E-02\n",
      "Error at 3 iteration at time 7 is 3.46E-04\n",
      "Error at 4 iteration at time 7 is 2.23E-06\n",
      "53.51128699864586  at  [100. 100.   0.]\n",
      "100.0  at  [100.   0.   0.]\n",
      "Error at 1 iteration at time 8 is 2.42E+01\n",
      "Error at 2 iteration at time 8 is 5.11E-02\n",
      "Error at 3 iteration at time 8 is 2.84E-04\n",
      "Error at 4 iteration at time 8 is 1.75E-06\n",
      "54.1153221951443  at  [100. 100.   0.]\n",
      "100.0  at  [100.   0.   0.]\n",
      "Error at 1 iteration at time 9 is 2.32E+01\n",
      "Error at 2 iteration at time 9 is 4.48E-02\n",
      "Error at 3 iteration at time 9 is 2.36E-04\n",
      "Error at 4 iteration at time 9 is 1.39E-06\n"
     ]
    },
    {
     "data": {
      "image/png": "[encoded data removed]",
      "text/plain": [
       "<Figure size 640x480 with 2 Axes>"
      ]
     },
     "metadata": {},
     "output_type": "display_data"
    }
   ],
   "source": [
    "soln3 = Picard_valid()\n",
    "T_b = 273+50\n",
    "theta_init = np.zeros((nodecoords.shape[0],1))+T_b\n",
    "theta_final = picard(soln3,nodecoords,ele_con,theta_init)"
   ]
  },
  {
   "cell_type": "code",
   "execution_count": 18,
   "id": "9b4d3195-1fc8-4151-9d59-86fc8fd018a5",
   "metadata": {},
   "outputs": [
    {
     "data": {
      "text/plain": [
       "array([54.74332597])"
      ]
     },
     "execution_count": 18,
     "metadata": {},
     "output_type": "execute_result"
    }
   ],
   "source": [
    "#at node a\n",
    "theta_final[np.where((nodecoords[:,0] == 0) * (nodecoords[:,1] == 100)) [0][0]]-273"
   ]
  },
  {
   "cell_type": "code",
   "execution_count": 19,
   "id": "afa55fcc-2f83-46b3-95c8-a471a44c658f",
   "metadata": {},
   "outputs": [
    {
     "data": {
      "text/plain": [
       "array([54.74224726])"
      ]
     },
     "execution_count": 19,
     "metadata": {},
     "output_type": "execute_result"
    }
   ],
   "source": [
    "#at node b\n",
    "theta_final[np.where((nodecoords[:,0] == 100) * (nodecoords[:,1] == 100)) [0][0]]-273"
   ]
  },
  {
   "cell_type": "code",
   "execution_count": 70,
   "id": "b937bd7d-048a-4d04-91f5-52a90c2fa93f",
   "metadata": {},
   "outputs": [],
   "source": [
    "a = [(1,2),(3,4)]"
   ]
  },
  {
   "cell_type": "code",
   "execution_count": 71,
   "id": "374494e7-c28a-4d63-8bdd-70bea06cb04b",
   "metadata": {},
   "outputs": [
    {
     "data": {
      "text/plain": [
       "[(1, 3), (2, 4)]"
      ]
     },
     "execution_count": 71,
     "metadata": {},
     "output_type": "execute_result"
    }
   ],
   "source": [
    "list(zip(*a))"
   ]
  },
  {
   "cell_type": "code",
   "execution_count": null,
   "id": "cffee024-ebab-4547-8998-fa341637e233",
   "metadata": {},
   "outputs": [],
   "source": []
  }
 ],
 "metadata": {
  "kernelspec": {
   "display_name": "Python 3 (ipykernel)",
   "language": "python",
   "name": "python3"
  },
  "language_info": {
   "codemirror_mode": {
    "name": "ipython",
    "version": 3
   },
   "file_extension": ".py",
   "mimetype": "text/x-python",
   "name": "python",
   "nbconvert_exporter": "python",
   "pygments_lexer": "ipython3",
   "version": "3.12.4"
  }
 },
 "nbformat": 4,
 "nbformat_minor": 5
}
