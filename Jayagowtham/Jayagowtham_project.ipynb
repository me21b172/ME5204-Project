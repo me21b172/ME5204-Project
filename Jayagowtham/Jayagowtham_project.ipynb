{
 "cells": [
  {
   "cell_type": "code",
   "execution_count": 372,
   "id": "7e132012-2504-4123-a1e3-fc60feb59f71",
   "metadata": {},
   "outputs": [],
   "source": [
    "#importing the necessary libraries\n",
    "import numpy as np\n",
    "import matplotlib.pyplot as plt\n",
    "import gmsh\n",
    "import time\n",
    "import pylab as pl\n",
    "import gmsh\n",
    "from IPython import display\n",
    "from matplotlib.path import Path\n",
    "from scipy.sparse import coo_array\n",
    "from collections import Counter\n",
    "%matplotlib inline\n",
    "import scipy"
   ]
  },
  {
   "cell_type": "code",
   "execution_count": 373,
   "id": "59a86fba-2cbe-4735-84f2-904f24c3daf1",
   "metadata": {},
   "outputs": [],
   "source": [
    "def read_mesh(filepath):\n",
    "    '''\n",
    "    Takes in an msh file and should return nodal coordinates and element connectivity in each physical group along with the boundary nodes \n",
    "    '''\n",
    "    gmsh.initialize()\n",
    "    gmsh.open(filepath)\n",
    "    print(f\"Reading {filepath}\")\n",
    "    print(f\"Number of nodes in the mesh: {int(gmsh.option.getNumber(\"Mesh.NbNodes\"))}\")\n",
    "    print(f\"Number of triangles in the mesh: {int(gmsh.option.getNumber(\"Mesh.NbTriangles\"))}\\n\")\n",
    "\n",
    "    #Get all nodes\n",
    "    dim = -1\n",
    "    tag = -1\n",
    "    nodeTags, nodecoords, _ = gmsh.model.mesh.getNodes(dim,tag)\n",
    "    nodecoords = nodecoords.reshape(-1,3) #tags start from 1\n",
    "\n",
    "    #Get all triangles\n",
    "    eleType = 2\n",
    "    tag = -1\n",
    "    elements_t,ele_con = gmsh.model.mesh.getElementsByType(eleType,-1)\n",
    "    ele_con = ele_con.reshape(-1,3)  #tags start from 1\n",
    "\n",
    "\n",
    "    gmsh.finalize()\n",
    "    return [nodecoords,ele_con] "
   ]
  },
  {
   "cell_type": "code",
   "execution_count": 374,
   "id": "575334c1-9f5c-4494-8789-8f5e9cb2b4be",
   "metadata": {},
   "outputs": [],
   "source": [
    "def Q(point,centre,ro):\n",
    "    x = point[0,0] - centre[0,0]\n",
    "    y = point[0,1] - centre[0,1]\n",
    "    Qo = 5 ## amplitude in W/mm^2 \n",
    "    return Qo*np.exp(-(x**2+y**2)/ro**2)  ## W/m^3\n",
    "\n",
    "def rho_Ti(T, phase = 'alpha'):\n",
    "    if phase == 'alpha':\n",
    "        return -5.13e-5*(T**2)-0.01935*T+4451\n",
    "    elif phase == 'beta':\n",
    "        return -2.762e-6*(T**2)-0.1663*T+4468\n",
    "    elif phase == 'liquid':\n",
    "        return -0.565*T+5093\n",
    "    else:\n",
    "        return T\n",
    "\n",
    "def cp_Ti(T,phase = 'alpha'):\n",
    "    if phase == 'alpha':\n",
    "        return 0.25*T+483\n",
    "    elif phase == 'beta':\n",
    "        return 0.14*T+530\n",
    "    elif phase == 'liquid':\n",
    "        return 930\n",
    "    else:\n",
    "        return T\n",
    "\n",
    "def k_Ti(T,phase = 'alpha'):\n",
    "    if phase == 'alpha':\n",
    "        return 0.012*T+3.3\n",
    "    elif phase == 'beta':\n",
    "        return 0.016*T-3\n",
    "    elif phase == 'liquid':\n",
    "        return 0.0175*T-4.5\n",
    "    else:\n",
    "        return T\n",
    "    "
   ]
  },
  {
   "cell_type": "code",
   "execution_count": 375,
   "id": "fc115e42-202e-4172-885a-11035b9aaa33",
   "metadata": {},
   "outputs": [],
   "source": [
    "class FEM:\n",
    "    def __init__(self):\n",
    "        self.data_line = {\"ips\":{2:[-1/np.sqrt(3),1/np.sqrt(3)],3:[-np.sqrt(3/5),0,np.sqrt(3/5)]},\\\n",
    "        \"weights\":{2:[1,1],3:[5/9,8/9,5/9]}}\n",
    "        self.data_tle = {\"ips\":{1:[[1/3,1/3]],3:[[1/6,1/6],[1/6,2/3],[2/3,1/6]]},\\\n",
    "       \"weights\":{1:[1/2],3:[1/6,1/6,1/6]}}\n",
    "                        \n",
    "    def fit_ele(self,nodes,ele,centre,theta_prev = None,mode = \"linear\",verbose = False):\n",
    "        '''\n",
    "        Return mass and stiffness matrices alongside the forcing vector\n",
    "        '''\n",
    "        gp = 3\n",
    "\n",
    "        qo = -1e-3   # W/mm^2\n",
    "        c = 658 #J/kg.K\n",
    "        rho = 7.6e-6 #kg/mm^3\n",
    "        kappa = 0.025 #W/mm.K\n",
    "        ro = 2 #mm\n",
    "        vo = 2 #mm/s\n",
    "        \n",
    "        #getting in the required data and doing the initialization\n",
    "        nop = nodes.shape[0]\n",
    "        ips = np.array(self.data_tle[\"ips\"][gp])\n",
    "        weights = np.array(self.data_tle[\"weights\"][gp])\n",
    "\n",
    "        K = np.zeros((nop,nop))\n",
    "        G = np.zeros((nop,nop))\n",
    "        F = np.zeros((nop,1))\n",
    "        boundary_term = np.zeros((nop,1))\n",
    "\n",
    "        ln = np.where(nodes[:,0] == 0)[0]\n",
    "        rn = np.where(nodes[:,0] == np.max(nodes[:,0]))[0]\n",
    "        bn = np.where(nodes[:,1] == 0)[0]\n",
    "        tn = np.where(nodes[:,1] == np.max(nodes[:,1]))[0]\n",
    "\n",
    "        h = []\n",
    "        for i,elei in enumerate(ele):\n",
    "            econ = elei-1\n",
    "            boundary = nodes[np.ix_(econ,[0,1])]\n",
    "            dN = np.array([[-1,1,0],[-1,0,1]])\n",
    "            Jac = np.matmul(dN,boundary)\n",
    "            if np.linalg.det(Jac)<0:\n",
    "                econ[0],econ[1] = econ[1],econ[0] #reordering for the direction to be counter clockwise\n",
    "                boundary = nodes[np.ix_(econ,[0,1])] \n",
    "                Jac = np.matmul(dN,boundary)\n",
    "            dN_dx = (np.linalg.inv(Jac)@dN)[0].reshape(1,-1) #1x3\n",
    "            Jac_inv = np.linalg.inv(Jac)\n",
    "            area = 0\n",
    "            for j,ipj in enumerate(ips):\n",
    "                N = np.array([[(1-ipj[0]-ipj[1]), ipj[0],ipj[1]]])\n",
    "                a = (Jac_inv@dN).T@(Jac_inv@dN)*(np.linalg.det(Jac))*weights[j]\n",
    "                b = N.T@dN_dx*(np.linalg.det(Jac))*weights[j]\n",
    "                if mode == \"non_linear\":\n",
    "                    kappa = N@k_Ti(theta_prev[np.ix_(econ,[0])],phase = 'alpha')/1e3 ##m to mm\n",
    "                    rho = N@rho_Ti(theta_prev[np.ix_(econ,[0])],phase = 'alpha')/1e9  ##m to mm\n",
    "                    c = N@cp_Ti(theta_prev[np.ix_(econ,[0])],phase = 'alpha')\n",
    "                K[np.ix_(econ,econ)] += kappa*a\n",
    "                G[np.ix_(econ,econ)] += rho*c*vo*b\n",
    "                X  =np.matmul(N,boundary)\n",
    "                f = N*Q(X,centre,ro)*np.linalg.det(Jac)*weights[j]\n",
    "                F[np.ix_(econ,[0])] +=f.T\n",
    "                area += np.linalg.det(Jac)*weights[j]\n",
    "            h.append(area)\n",
    "\n",
    "            for l,m in zip([0,1,2],[1,2,0]):\n",
    "                n1 = econ[l]\n",
    "                n2 = econ[m]\n",
    "                check_rn = (n1 in rn and n2 in rn)\n",
    "                check_tn = (n1 in tn and n2 in tn)\n",
    "                check_bn = (n1 in bn and n2 in bn)\n",
    "                if check_rn or check_tn or check_bn:\n",
    "                    # print(n1,'\\t',n2)\n",
    "                    line_gp = 3\n",
    "                    line_ips = np.array(self.data_line[\"ips\"][line_gp])\n",
    "                    line_weights = np.array(self.data_line[\"weights\"][line_gp])\n",
    "                    for k,ipk in enumerate(line_ips):\n",
    "                        N_line = np.array([(1-ipk)/2, (1+ipk)/2]).reshape(1,-1)\n",
    "                        dN_line = np.array([-1/2, 1/2]).reshape(1,-1)\n",
    "                        line_boundary = nodes[np.ix_([n1,n2],[1 if check_rn else 0])] #assuming interfacial lines are along x axis\n",
    "                        Jac_line = np.matmul(dN_line,line_boundary)\n",
    "                        if np.linalg.det(Jac_line)<0:\n",
    "                            n1,n2 = n2,n1\n",
    "                            line_boundary = nodes[np.ix_([n1,n2],[1 if check_rn else 0])] #interchanging nodes\"\n",
    "                            Jac_line = np.matmul(dN_line,line_boundary)\n",
    "                        # print(np.linalg.det(Jac_line))\n",
    "                        boundary_term[np.ix_([n1,n2],[0])] += N_line.T*np.linalg.det(Jac_line)*(-qo)*line_weights[k]\n",
    "        if verbose == True:\n",
    "            print(f\"Mesh size is {np.sqrt(np.mean(h))}\")\n",
    "            print(f\"Spot radius is {ro}\")\n",
    "        T_l = 273+20\n",
    "        non_ln = np.setdiff1d(np.arange(K.shape[0]),ln)\n",
    "        rhs = F+boundary_term-T_l*np.sum((K[np.ix_(np.arange(K.shape[0]),ln)]+G[np.ix_(np.arange(K.shape[0]),ln)]),axis = 1).reshape(-1,1)\n",
    "        K_sub = K[np.ix_(non_ln,non_ln)]\n",
    "        G_sub = G[np.ix_(non_ln,non_ln)]\n",
    "        rhs_sub = rhs[np.ix_(non_ln,[0])]\n",
    "\n",
    "        theta_sub = np.linalg.inv(K_sub+G_sub)@(rhs_sub)\n",
    "\n",
    "        theta = np.zeros((K.shape[0],1))+T_l\n",
    "        theta[non_ln,:] = theta_sub.reshape(-1,1)\n",
    "        \n",
    "        return [K,G,F,boundary_term,theta]\n"
   ]
  },
  {
   "cell_type": "code",
   "execution_count": 376,
   "id": "ca46d3c1-f5e4-4d2b-aff1-5f47f4f49290",
   "metadata": {},
   "outputs": [],
   "source": [
    "soln1 = FEM()"
   ]
  },
  {
   "cell_type": "code",
   "execution_count": 377,
   "id": "303a5aa2-7eab-4068-9afe-901ae32b8f14",
   "metadata": {},
   "outputs": [],
   "source": [
    "mesh_size_factor = 2"
   ]
  },
  {
   "cell_type": "code",
   "execution_count": 378,
   "id": "cdb95997-94dd-4aa9-bfee-e40d3e066f09",
   "metadata": {},
   "outputs": [
    {
     "name": "stdout",
     "output_type": "stream",
     "text": [
      "Reading rectangle_2.msh\n",
      "Number of nodes in the mesh: 1542\n",
      "Number of triangles in the mesh: 2932\n",
      "\n",
      "Mesh size is 1.3058792441389253\n",
      "Spot radius is 2\n"
     ]
    }
   ],
   "source": [
    "filename = f\"rectangle_{mesh_size_factor}.msh\"\n",
    "nodecoords,ele_con = read_mesh(filename) #node tags start from 1\n",
    "K,G,F,boundary,theta = soln1.fit_ele(nodecoords,ele_con,np.array([[50,25]]),verbose = True)"
   ]
  },
  {
   "cell_type": "code",
   "execution_count": 379,
   "id": "e598e5a6-3573-4503-b0b2-78aec7096b82",
   "metadata": {},
   "outputs": [
    {
     "data": {
      "image/png": "[encoded data removed]",
      "text/plain": [
       "<Figure size 640x480 with 2 Axes>"
      ]
     },
     "metadata": {},
     "output_type": "display_data"
    }
   ],
   "source": [
    "plt.tricontourf(nodecoords[:,0],nodecoords[:,1],theta.flatten())\n",
    "plt.colorbar()\n",
    "plt.show()"
   ]
  },
  {
   "cell_type": "code",
   "execution_count": 380,
   "id": "89fb9481-75cf-4ca8-98ea-5ce7389bcdbc",
   "metadata": {},
   "outputs": [
    {
     "data": {
      "image/png": "[encoded data removed]",
      "text/plain": [
       "<Figure size 640x480 with 2 Axes>"
      ]
     },
     "metadata": {},
     "output_type": "display_data"
    }
   ],
   "source": [
    "### Plotting the gaussian\n",
    "plt.tricontourf(nodecoords[:,0],nodecoords[:,1], F.flatten())\n",
    "plt.colorbar()\n",
    "plt.gca().set_aspect('equal')\n",
    "plt.show()"
   ]
  },
  {
   "cell_type": "markdown",
   "id": "45f8c9f4-5edb-4216-809e-9c22b32506c3",
   "metadata": {},
   "source": [
    "## Picard iteration for moving source heat conduction"
   ]
  },
  {
   "cell_type": "code",
   "execution_count": 382,
   "id": "3438ea92-8170-4b0c-afdd-db05a0a89154",
   "metadata": {},
   "outputs": [],
   "source": [
    "def picard(nodecoords,ele_con,theta_init):\n",
    "## the idea is you initialize a temperature profile and find corresponding multipliers for the non linear terms\n",
    "    #non is number of nodes\n",
    "    theta_old = theta_init\n",
    "\n",
    "    e = 1e5\n",
    "    tolerance = 1e-4\n",
    "    iter = 0\n",
    "    \n",
    "    while(e>tolerance):\n",
    "        iter +=1\n",
    "        _,_,_,_,theta_new = soln2.fit_ele(nodecoords,ele_con,np.array([[50,25]]),theta_prev = theta_old,mode = \"non_linear\")\n",
    "        e = np.linalg.norm(theta_new - theta_old)\n",
    "        theta_old = theta_new\n",
    "        print(f\"Error at {iter} iteration is {e:.2E}\")\n",
    "\n",
    "    plt.tricontourf(nodecoords[:,0],nodecoords[:,1],theta_new.flatten())\n",
    "    plt.title(f\"Converged solution after {iter} iterations\")\n",
    "    plt.colorbar()\n",
    "    plt.show()\n",
    "\n",
    "    return theta_new\n",
    "        \n",
    "        "
   ]
  },
  {
   "cell_type": "code",
   "execution_count": 383,
   "id": "89382065-5f68-4ec2-aa1b-7d43a3bef0be",
   "metadata": {},
   "outputs": [
    {
     "name": "stdout",
     "output_type": "stream",
     "text": [
      "Error at 1 iteration is 9.69E+03\n",
      "Error at 2 iteration is 2.09E+03\n",
      "Error at 3 iteration is 3.06E+02\n",
      "Error at 4 iteration is 3.48E+01\n",
      "Error at 5 iteration is 5.13E+00\n",
      "Error at 6 iteration is 6.39E-01\n",
      "Error at 7 iteration is 8.67E-02\n",
      "Error at 8 iteration is 1.16E-02\n",
      "Error at 9 iteration is 1.44E-03\n",
      "Error at 10 iteration is 2.06E-04\n",
      "Error at 11 iteration is 2.36E-05\n"
     ]
    },
    {
     "data": {
      "image/png": "[encoded data removed]",
      "text/plain": [
       "<Figure size 640x480 with 2 Axes>"
      ]
     },
     "metadata": {},
     "output_type": "display_data"
    }
   ],
   "source": [
    "soln2 = FEM()\n",
    "T_l = 273+20\n",
    "theta_init = np.zeros((nodecoords.shape[0],1))+T_l\n",
    "theta_final = picard(nodecoords,ele_con,theta_init)"
   ]
  },
  {
   "cell_type": "code",
   "execution_count": 384,
   "id": "09ec4a9c-1fb8-46b6-9613-604ac4129995",
   "metadata": {},
   "outputs": [
    {
     "data": {
      "text/plain": [
       "np.float64(1295.8893185983738)"
      ]
     },
     "execution_count": 384,
     "metadata": {},
     "output_type": "execute_result"
    }
   ],
   "source": [
    "np.max(theta_final)"
   ]
  },
  {
   "cell_type": "markdown",
   "id": "1a49a5d6-a39f-4b50-a4a3-c6d32e4c0c39",
   "metadata": {},
   "source": [
    "## Picard iteration validation"
   ]
  },
  {
   "cell_type": "code",
   "execution_count": 385,
   "id": "52f28662-cc32-4fc3-9635-2c6e1d47c480",
   "metadata": {},
   "outputs": [],
   "source": [
    "def Q(point):\n",
    "    x = point[0,0] #in mm\n",
    "    return 15e-3*(x/100)*(1-x/100) ## W/mm^3\n",
    "\n",
    "def k_T(T):\n",
    "    # return np.ones_like(T)*110\n",
    "    return (100+0.004*(T-50-273)**2)*1e-3  ##W/mmK"
   ]
  },
  {
   "cell_type": "code",
   "execution_count": 386,
   "id": "403f41a2-81b4-43c1-a9b3-b525176962ca",
   "metadata": {},
   "outputs": [],
   "source": [
    "class Picard_valid:\n",
    "    def __init__(self):\n",
    "        self.data_line = {\"ips\":{2:[-1/np.sqrt(3),1/np.sqrt(3)],3:[-np.sqrt(3/5),0,np.sqrt(3/5)]},\\\n",
    "        \"weights\":{2:[1,1],3:[5/9,8/9,5/9]}}\n",
    "        self.data_tle = {\"ips\":{1:[[1/3,1/3]],3:[[1/6,1/6],[1/6,2/3],[2/3,1/6]]},\\\n",
    "       \"weights\":{1:[1/2],3:[1/6,1/6,1/6]}}\n",
    "                        \n",
    "    def fit_ele(self,nodes,ele,dt,theta_prev_time = None,theta_prev_pic = None,mode = \"linear\",scheme = \"implicit\"):\n",
    "        '''\n",
    "        Return mass and stiffness matrices alongside the forcing vector\n",
    "        '''\n",
    "        gp = 3\n",
    "\n",
    "        qo = 0   # W/mm^2\n",
    "        c = 465 #J/kg.K\n",
    "        rho = 7e-6 #kg/mm^3\n",
    "        \n",
    "        #getting in the required data and doing the initialization\n",
    "        nop = nodes.shape[0]\n",
    "        ips = np.array(self.data_tle[\"ips\"][gp])\n",
    "        weights = np.array(self.data_tle[\"weights\"][gp])\n",
    "\n",
    "        K = np.zeros((nop,nop))\n",
    "        M = np.zeros((nop,nop))\n",
    "        F = np.zeros((nop,1))\n",
    "        boundary_term = np.zeros((nop,1))\n",
    "\n",
    "        ln = np.where(nodes[:,0] == 0)[0]\n",
    "        rn = np.where(nodes[:,0] == np.max(nodes[:,0]))[0]\n",
    "        bn = np.where(nodes[:,1] == 0)[0]\n",
    "        tn = np.where(nodes[:,1] == np.max(nodes[:,1]))[0]\n",
    "\n",
    "        for i,elei in enumerate(ele):\n",
    "            econ = elei-1\n",
    "            boundary = nodes[np.ix_(econ,[0,1])]\n",
    "            dN = np.array([[-1,1,0],[-1,0,1]])\n",
    "            Jac = np.matmul(dN,boundary)\n",
    "            if np.linalg.det(Jac)<0:\n",
    "                econ[0],econ[1] = econ[1],econ[0] #reordering for the direction to be counter clockwise\n",
    "                boundary = nodes[np.ix_(econ,[0,1])] \n",
    "                Jac = np.matmul(dN,boundary)\n",
    "            dN_dx = (np.linalg.inv(Jac)@dN)[0].reshape(1,-1) #1x3\n",
    "            Jac_inv = np.linalg.inv(Jac)\n",
    "            for j,ipj in enumerate(ips):\n",
    "                N = np.array([[(1-ipj[0]-ipj[1]), ipj[0],ipj[1]]])\n",
    "                a = (Jac_inv@dN).T@(Jac_inv@dN)*(np.linalg.det(Jac))*weights[j]\n",
    "                b = N.T@dN_dx*(np.linalg.det(Jac))*weights[j]\n",
    "                m = np.matmul(N.T,N)*np.linalg.det(Jac)*weights[j]\n",
    "                if mode == \"non_linear\":\n",
    "                    kappa = N@k_T(theta_prev_pic[np.ix_(econ,[0])])\n",
    "                K[np.ix_(econ,econ)] += kappa*a\n",
    "                M[np.ix_(econ,econ)] += rho*c*m\n",
    "                # G[np.ix_(econ,econ)] += rho*c*vo*b\n",
    "                X  =np.matmul(N,boundary)\n",
    "                f = N*Q(X)*np.linalg.det(Jac)*weights[j]\n",
    "                F[np.ix_(econ,[0])] +=f.T\n",
    "\n",
    "\n",
    "        T_b = 273+100\n",
    "        non_bn = np.setdiff1d(np.arange(K.shape[0]),bn)\n",
    "        rhs = (F+boundary_term+M@theta_prev_time/dt)\\\n",
    "               -T_b*np.sum(K[np.ix_(np.arange(K.shape[0]),bn)]+M[np.ix_(np.arange(K.shape[0]),bn)]/dt,axis = 1).reshape(-1,1)\n",
    "        K_sub = K[np.ix_(non_bn,non_bn)]\n",
    "        M_sub = M[np.ix_(non_bn,non_bn)]\n",
    "        rhs_sub = rhs[np.ix_(non_bn,[0])]\n",
    "        # print(K_sub)\n",
    "        # print(np.sum(M_sub))\n",
    "        # print(K_sub+M_sub/dt)\n",
    "        # print(\"inverter:\",np.sum(np.linalg.inv(K_sub+M_sub/dt)))\n",
    "        # print(\"multiplier:\",np.sum(((F+boundary_term+M@(theta_prev_time-273)/dt)\\\n",
    "        #        -(T_b-273)*np.sum(K[np.ix_(np.arange(K.shape[0]),bn)]+M[np.ix_(np.arange(K.shape[0]),bn)]/dt,axis = 1).reshape(-1,1))[np.ix_(non_bn,[0])]))\n",
    "        # return\n",
    "        theta_sub = np.linalg.inv(K_sub+M_sub/dt)@(rhs_sub)\n",
    "\n",
    "        theta = np.zeros((K.shape[0],1))+T_b\n",
    "        theta[non_bn,:] = theta_sub.reshape(-1,1)\n",
    "        \n",
    "        return [M,K,F,boundary_term,theta]"
   ]
  },
  {
   "cell_type": "code",
   "execution_count": 387,
   "id": "f794677e-f979-43b2-8672-c993212b8720",
   "metadata": {},
   "outputs": [],
   "source": [
    "def picard(soln,nodecoords,ele_con,theta_init):\n",
    "## the idea is you initialize a temperature profile and find corresponding multipliers for the non linear terms\n",
    "    #non is number of nodes\n",
    "\n",
    "    dt = 1\n",
    "    times = np.arange(0,10,dt)\n",
    "    theta_prev_time = theta_init\n",
    "    \n",
    "    for t in times:\n",
    "        if t == round(t):\n",
    "            print(np.min(theta_prev_time)-273,' at ',nodecoords[np.argmin(theta_prev_time)])\n",
    "            print(np.max(theta_prev_time)-273,' at ',nodecoords[np.argmax(theta_prev_time)])\n",
    "        e = 1e5\n",
    "        tolerance = 1e-4\n",
    "        iter = 0\n",
    "        theta_prev_pic = theta_prev_time\n",
    "        while(e>tolerance):\n",
    "            iter +=1\n",
    "            ## Implicit formulation \n",
    "            M,K,F,boundary_term,theta_new = soln.fit_ele(nodecoords,ele_con,dt,theta_prev_time = theta_prev_time,theta_prev_pic = theta_prev_pic,mode = \"non_linear\",scheme = \"implicit\")\n",
    "            # print(\"M:\",np.sum(M))\n",
    "            # print(\"K:\",np.sum(K))\n",
    "            # print(\"F:\",np.sum(F))\n",
    "            # print(\"boundary_term:\",np.sum(boundary_term))\n",
    "            e = np.linalg.norm(theta_new - theta_prev_pic)\n",
    "            theta_prev_pic = theta_new\n",
    "            if t == round(t):\n",
    "                print(f\"Error at {iter} iteration at time {t} is {e:.2E}\")\n",
    "        # print(np.any(boundary_term))  confirmation that b.t isn't contributing\n",
    "        theta_prev_time = theta_new\n",
    "        \n",
    "    plt.tricontourf(nodecoords[:,0],nodecoords[:,1],theta_new.flatten()-273, cmap = 'plasma')\n",
    "    plt.title(f\"Converged solution\")\n",
    "    plt.colorbar()\n",
    "    plt.show()\n",
    "\n",
    "    return theta_new\n",
    "        "
   ]
  },
  {
   "cell_type": "code",
   "execution_count": 388,
   "id": "47227b33-d3b8-4e17-af6a-a5599fe15156",
   "metadata": {},
   "outputs": [
    {
     "name": "stdout",
     "output_type": "stream",
     "text": [
      "Reading square_3.msh\n",
      "Number of nodes in the mesh: 380\n",
      "Number of triangles in the mesh: 690\n",
      "\n"
     ]
    }
   ],
   "source": [
    "mesh_size_factor = 3\n",
    "filename = f\"square_{mesh_size_factor}.msh\"\n",
    "nodecoords,ele_con = read_mesh(filename) #node tags start from 1"
   ]
  },
  {
   "cell_type": "code",
   "execution_count": 389,
   "id": "709f0f03-7f36-47e8-b5bc-a25e6426cce3",
   "metadata": {},
   "outputs": [
    {
     "name": "stdout",
     "output_type": "stream",
     "text": [
      "50.0  at  [100. 100.   0.]\n",
      "50.0  at  [100. 100.   0.]\n",
      "Error at 1 iteration at time 0 is 2.34E+02\n",
      "Error at 2 iteration at time 0 is 3.52E+00\n",
      "Error at 3 iteration at time 0 is 3.69E-02\n",
      "Error at 4 iteration at time 0 is 2.79E-04\n",
      "Error at 5 iteration at time 0 is 1.79E-06\n",
      "50.21715085157712  at  [100. 100.   0.]\n",
      "100.0  at  [100.   0.   0.]\n",
      "Error at 1 iteration at time 1 is 6.46E+01\n",
      "Error at 2 iteration at time 1 is 4.82E-01\n",
      "Error at 3 iteration at time 1 is 2.65E-03\n",
      "Error at 4 iteration at time 1 is 1.24E-05\n",
      "50.5384875579075  at  [100. 100.   0.]\n",
      "100.0  at  [100.   0.   0.]\n",
      "Error at 1 iteration at time 2 is 4.52E+01\n",
      "Error at 2 iteration at time 2 is 2.56E-01\n",
      "Error at 3 iteration at time 2 is 1.29E-03\n",
      "Error at 4 iteration at time 2 is 1.17E-05\n",
      "50.92924218714677  at  [100. 100.   0.]\n",
      "100.0  at  [100.   0.   0.]\n",
      "Error at 1 iteration at time 3 is 3.69E+01\n",
      "Error at 2 iteration at time 3 is 1.62E-01\n",
      "Error at 3 iteration at time 3 is 9.17E-04\n",
      "Error at 4 iteration at time 3 is 8.05E-06\n",
      "51.37260906571083  at  [100. 100.   0.]\n",
      "100.0  at  [100.   0.   0.]\n",
      "Error at 1 iteration at time 4 is 3.23E+01\n",
      "Error at 2 iteration at time 4 is 1.15E-01\n",
      "Error at 3 iteration at time 4 is 6.96E-04\n",
      "Error at 4 iteration at time 4 is 5.51E-06\n",
      "51.85841986172528  at  [100. 100.   0.]\n",
      "100.0  at  [100.   0.   0.]\n",
      "Error at 1 iteration at time 5 is 2.92E+01\n",
      "Error at 2 iteration at time 5 is 8.83E-02\n",
      "Error at 3 iteration at time 5 is 5.41E-04\n",
      "Error at 4 iteration at time 5 is 3.93E-06\n",
      "52.379818105181585  at  [100. 100.   0.]\n",
      "100.0  at  [100.   0.   0.]\n",
      "Error at 1 iteration at time 6 is 2.71E+01\n",
      "Error at 2 iteration at time 6 is 7.12E-02\n",
      "Error at 3 iteration at time 6 is 4.29E-04\n",
      "Error at 4 iteration at time 6 is 2.91E-06\n",
      "52.93194302147805  at  [100. 100.   0.]\n",
      "100.0  at  [100.   0.   0.]\n",
      "Error at 1 iteration at time 7 is 2.55E+01\n",
      "Error at 2 iteration at time 7 is 5.96E-02\n",
      "Error at 3 iteration at time 7 is 3.46E-04\n",
      "Error at 4 iteration at time 7 is 2.23E-06\n",
      "53.51128699864586  at  [100. 100.   0.]\n",
      "100.0  at  [100.   0.   0.]\n",
      "Error at 1 iteration at time 8 is 2.42E+01\n",
      "Error at 2 iteration at time 8 is 5.11E-02\n",
      "Error at 3 iteration at time 8 is 2.84E-04\n",
      "Error at 4 iteration at time 8 is 1.75E-06\n",
      "54.1153221951443  at  [100. 100.   0.]\n",
      "100.0  at  [100.   0.   0.]\n",
      "Error at 1 iteration at time 9 is 2.32E+01\n",
      "Error at 2 iteration at time 9 is 4.48E-02\n",
      "Error at 3 iteration at time 9 is 2.36E-04\n",
      "Error at 4 iteration at time 9 is 1.39E-06\n"
     ]
    },
    {
     "data": {
      "image/png": "[encoded data removed]",
      "text/plain": [
       "<Figure size 640x480 with 2 Axes>"
      ]
     },
     "metadata": {},
     "output_type": "display_data"
    }
   ],
   "source": [
    "soln3 = Picard_valid()\n",
    "T_b = 273+50\n",
    "theta_init = np.zeros((nodecoords.shape[0],1))+T_b\n",
    "theta_final = picard(soln3,nodecoords,ele_con,theta_init)"
   ]
  },
  {
   "cell_type": "code",
   "execution_count": 390,
   "id": "9b4d3195-1fc8-4151-9d59-86fc8fd018a5",
   "metadata": {},
   "outputs": [
    {
     "data": {
      "text/plain": [
       "array([54.74332597])"
      ]
     },
     "execution_count": 390,
     "metadata": {},
     "output_type": "execute_result"
    }
   ],
   "source": [
    "#at node a\n",
    "theta_final[np.where((nodecoords[:,0] == 0) * (nodecoords[:,1] == 100)) [0][0]]-273"
   ]
  },
  {
   "cell_type": "code",
   "execution_count": 391,
   "id": "afa55fcc-2f83-46b3-95c8-a471a44c658f",
   "metadata": {},
   "outputs": [
    {
     "data": {
      "text/plain": [
       "array([54.74224726])"
      ]
     },
     "execution_count": 391,
     "metadata": {},
     "output_type": "execute_result"
    }
   ],
   "source": [
    "#at node b\n",
    "theta_final[np.where((nodecoords[:,0] == 100) * (nodecoords[:,1] == 100)) [0][0]]-273"
   ]
  }
 ],
 "metadata": {
  "kernelspec": {
   "display_name": "Python 3 (ipykernel)",
   "language": "python",
   "name": "python3"
  },
  "language_info": {
   "codemirror_mode": {
    "name": "ipython",
    "version": 3
   },
   "file_extension": ".py",
   "mimetype": "text/x-python",
   "name": "python",
   "nbconvert_exporter": "python",
   "pygments_lexer": "ipython3",
   "version": "3.12.4"
  }
 },
 "nbformat": 4,
 "nbformat_minor": 5
}
