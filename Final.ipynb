{
 "cells": [
  {
   "cell_type": "markdown",
   "id": "5b59ad24-fb22-495c-af7d-ef318af18188",
   "metadata": {},
   "source": [
    "## Import libraries"
   ]
  },
  {
   "cell_type": "code",
   "execution_count": 46,
   "id": "9a07f257-6a03-4a3b-827a-78d9251e8f1d",
   "metadata": {},
   "outputs": [],
   "source": [
    "import numpy as np\n",
    "import matplotlib.pyplot as plt\n",
    "import gmsh\n",
    "import time\n",
    "import pylab as pl\n",
    "import gmsh\n",
    "from IPython import display\n",
    "from matplotlib.path import Path\n",
    "from scipy.sparse import coo_array\n",
    "from collections import Counter\n",
    "%matplotlib inline\n",
    "import scipy\n",
    "import time\n",
    "from multiprocessing import Manager,Pool\n",
    "from worker1 import matrix_helper\n",
    "from worker2 import picard_helper\n",
    "import gc"
   ]
  },
  {
   "cell_type": "markdown",
   "id": "3533a3cd-c088-4fe9-9098-2e373baf3550",
   "metadata": {},
   "source": [
    "## Utility functions"
   ]
  },
  {
   "cell_type": "code",
   "execution_count": 7,
   "id": "1bcf6dd1-bdd5-418e-8f1a-e3cbfd3f0389",
   "metadata": {},
   "outputs": [],
   "source": [
    "def read_mesh(filepath):\n",
    "    '''\n",
    "    Takes in an msh file and should return nodal coordinates and element connectivity in each physical group along with the boundary nodes \n",
    "    '''\n",
    "    gmsh.initialize()\n",
    "    gmsh.open(filepath)\n",
    "    print(f\"Reading {filepath}\")\n",
    "    print(f\"Number of nodes in the mesh: {int(gmsh.option.getNumber(\"Mesh.NbNodes\"))}\")\n",
    "    print(f\"Number of triangles in the mesh: {int(gmsh.option.getNumber(\"Mesh.NbTriangles\"))}\\n\")\n",
    "\n",
    "    #Get all nodes\n",
    "    dim = -1\n",
    "    tag = -1\n",
    "    nodeTags, nodecoords, _ = gmsh.model.mesh.getNodes(dim,tag)\n",
    "    nodecoords = nodecoords.reshape(-1,3) #tags start from 1\n",
    "\n",
    "    #Get all triangles\n",
    "    eleType = 2\n",
    "    tag = -1\n",
    "    elements_t,ele_con = gmsh.model.mesh.getElementsByType(eleType,-1)\n",
    "    ele_con = ele_con.reshape(-1,3)  #tags start from 1\n",
    "\n",
    "\n",
    "    gmsh.finalize()\n",
    "    return [nodecoords,ele_con] "
   ]
  },
  {
   "cell_type": "code",
   "execution_count": 8,
   "id": "884d397b-ab28-4fb3-934a-4500de882b53",
   "metadata": {},
   "outputs": [],
   "source": [
    "''' Functions relating to source term and the properties of Titanium alloy '''\n",
    "def Q(point,centre,ro):\n",
    "    x = point[0,0] - centre[0,0]\n",
    "    y = point[0,1] - centre[0,1]\n",
    "    Qo = 5 ## amplitude in W/mm^2 \n",
    "    return Qo*np.exp(-(x**2+y**2)/ro**2)  ## W/m^3\n",
    "\n",
    "def rho_Ti(T, phase = 'alpha'):\n",
    "    if phase == 'alpha':\n",
    "        return -5.13e-5*(T**2)-0.01935*T+4451\n",
    "    elif phase == 'beta':\n",
    "        return -2.762e-6*(T**2)-0.1663*T+4468\n",
    "    elif phase == 'liquid':\n",
    "        return -0.565*T+5093\n",
    "    else:\n",
    "        return T\n",
    "\n",
    "def cp_Ti(T,phase = 'alpha'):\n",
    "    if phase == 'alpha':\n",
    "        return 0.25*T+483\n",
    "    elif phase == 'beta':\n",
    "        return 0.14*T+530\n",
    "    elif phase == 'liquid':\n",
    "        return 930\n",
    "    else:\n",
    "        return T\n",
    "\n",
    "def k_Ti(T,phase = 'alpha'):\n",
    "    if phase == 'alpha':\n",
    "        return 0.012*T+3.3\n",
    "    elif phase == 'beta':\n",
    "        return 0.016*T-3\n",
    "    elif phase == 'liquid':\n",
    "        return 0.0175*T-4.5\n",
    "    else:\n",
    "        return T\n",
    "\n",
    "def props_chooser(T, T_rep, process = 'heating'):\n",
    "    if (T_rep<1268 and process == 'heating') or (T_rep<=1073 and process == 'cooling'):\n",
    "        return rho_Ti(T,phase = 'alpha'),cp_Ti(T,phase = 'alpha'),k_Ti(T,phase = 'alpha')\n",
    "    elif (T_rep<1928 and process == 'heating') or (T_rep>1073 and process == 'cooling'):\n",
    "        return rho_Ti(T,phase = 'beta'),cp_Ti(T,phase = 'beta'),k_Ti(T,phase = 'beta')\n",
    "    elif (T_rep>=1928 and process == 'heating') or (T_rep>=1878 and process == 'cooling'):\n",
    "        return rho_Ti(T,phase = 'liquid'),cp_Ti(T,phase = 'liquid'),k_Ti(T,phase = 'liquid')\n",
    "    else:\n",
    "        return -1\n",
    "  "
   ]
  },
  {
   "cell_type": "code",
   "execution_count": 9,
   "id": "70403db9-779f-4fef-a6ee-7c8cef2d8e43",
   "metadata": {},
   "outputs": [],
   "source": [
    "'''Parallel processing utility functions'''\n",
    "def flatten(xss):\n",
    "    return [x for xs in xss for x in xs] "
   ]
  },
  {
   "cell_type": "markdown",
   "id": "0977c5aa-ce01-41a7-9c35-88e496d73749",
   "metadata": {},
   "source": [
    "## Validation of quasi-static solver code"
   ]
  },
  {
   "cell_type": "code",
   "execution_count": 82,
   "id": "a9ec965c-01f3-4891-8c48-ec0fe0878cd0",
   "metadata": {},
   "outputs": [],
   "source": [
    "class FEM:\n",
    "    def __init__(self,nodecoords,elecon,centre):\n",
    "        self.data_line = {\"ips\":{2:[-1/np.sqrt(3),1/np.sqrt(3)],3:[-np.sqrt(3/5),0,np.sqrt(3/5)]},\\\n",
    "        \"weights\":{2:[1,1],3:[5/9,8/9,5/9]}}\n",
    "        self.data_tle = {\"ips\":{1:[[1/3,1/3]],3:[[1/6,1/6],[1/6,2/3],[2/3,1/6]]},\\\n",
    "       \"weights\":{1:[1/2],3:[1/6,1/6,1/6]}}\n",
    "        self.nodecoords = nodecoords\n",
    "        self.elecon = elecon\n",
    "        self.centre = centre\n",
    "    \n",
    "    def fit_ele(self,theta_prev_time = None,theta_prev_pic = None,mode = \"linear\",verbose = False):\n",
    "        '''\n",
    "        Return mass and stiffness matrices alongside the forcing vector\n",
    "        '''\n",
    "\n",
    "        nodes = self.nodecoords\n",
    "        ele = self.elecon\n",
    "        source = self.centre\n",
    "\n",
    "        #getting the boundary nodes\n",
    "        \n",
    "        ln = np.where(nodes[:,0] == 0)[0]\n",
    "        rn = np.where(nodes[:,0] == np.max(nodes[:,0]))[0]\n",
    "        bn = np.where(nodes[:,1] == 0)[0]\n",
    "        tn = np.where(nodes[:,1] == np.max(nodes[:,1]))[0]\n",
    "\n",
    "        #Data for FEA\n",
    "        gp = 3\n",
    "        nop = nodes.shape[0]\n",
    "        ips = np.array(self.data_tle[\"ips\"][gp])\n",
    "        weights = np.array(self.data_tle[\"weights\"][gp])\n",
    "\n",
    "        K_row,K_col,K_data = [],[],[]\n",
    "        G_row,G_col,G_data = [],[],[]\n",
    "\n",
    "        #Parallel processing for matrix computations\n",
    "        items = [(nodes,elei,source,theta_prev_time,theta_prev_pic,mode) for elei in ele]\n",
    "        st = time.time()\n",
    "        with Pool(processes = 4) as pool:\n",
    "            results = pool.map(matrix_helper, items)\n",
    "        if verbose == True:\n",
    "            print(f\"Time for pooling to end {time.time()-st}\")\n",
    "\n",
    "        #Accumulating data collected over multiprocessing\n",
    "        st = time.time()\n",
    "        K_row, K_col, K_data, G_row, G_col, G_data, F_row,F_data, BT_row, BT_data,areas = list(zip(*results))\n",
    "        mega = [K_row, K_col, K_data, G_row, G_col, G_data, F_row,F_data, BT_row, BT_data]\n",
    "        K_row, K_col, K_data, G_row, G_col, G_data, F_row,F_data, BT_row, BT_data = [flatten(mini) for mini in mega]\n",
    "        if verbose == True:\n",
    "            print(f\"Time for accumulation of data to end {time.time()-st}\")\n",
    "\n",
    "        h = np.sqrt(np.mean(areas)) \n",
    "        if verbose == True:\n",
    "            print(f\"Mesh size is {h} mm\")\n",
    "            print(f\"Spot radius is 2 mm\")\n",
    "\n",
    "        #Preparing the matrices for calculations\n",
    "        st = time.time()\n",
    "        F= coo_array((F_data,(F_row,[0]*len(F_row))),shape = ((nop,1))).toarray()\n",
    "        boundary_term = coo_array((BT_data,(BT_row,[0]*len(BT_row))),shape = ((nop,1))).toarray()\n",
    "        \n",
    "        K_sparse = coo_array((K_data,(K_row,K_col)),shape=(nop,nop))\n",
    "        G_sparse = coo_array((G_data,(G_row,G_col)),shape=(nop,nop))\n",
    "        if verbose == True:\n",
    "            print(f\"Time for matrices creation {time.time()-st}\")\n",
    "\n",
    "        #Converting sparse to dense matrix for submatrix extractions\n",
    "        st = time.time()\n",
    "        K = K_sparse.toarray()\n",
    "        G = G_sparse.toarray()\n",
    "\n",
    "        if mode == \"no_source\":\n",
    "            F = np.zeros((nop,1))\n",
    "            G = np.zeros((nop,nop))\n",
    "        if verbose == True:\n",
    "            print(f\"Time for sparse to dense conversion {time.time()-st}\")\n",
    "\n",
    "        #Setting up the right hand side by subtracting the dirichlet terms\n",
    "        T_l = 20\n",
    "        non_ln = np.setdiff1d(np.arange(K.shape[0]),ln)\n",
    "        rhs = F+boundary_term-T_l*np.sum((K[np.ix_(np.arange(K.shape[0]),ln)]\\\n",
    "                                          +G[np.ix_(np.arange(K.shape[0]),ln)]),axis = 1).reshape(-1,1)\n",
    "\n",
    "        #Sub matrix extractions\n",
    "        K_sub = K[np.ix_(non_ln,non_ln)]\n",
    "        G_sub = G[np.ix_(non_ln,non_ln)]\n",
    "        rhs_sub = rhs[np.ix_(non_ln,[0])]\n",
    "\n",
    "        #Back to sparse matrix for efficient inverse computation\n",
    "        K_sparse = coo_array(K_sub)\n",
    "        G_sparse = coo_array(G_sub)\n",
    "        rhs_sparse = coo_array(rhs_sub)\n",
    "        \n",
    "        st = time.time()\n",
    "        theta_sub = scipy.sparse.linalg.spsolve(K_sparse+G_sparse,rhs_sparse)\n",
    "        if verbose == True:\n",
    "            print(f\"Time for inversion {time.time()-st}\")\n",
    "\n",
    "        #Final solution with the dirichlet imposed\n",
    "        theta = np.zeros((K.shape[0],1))+T_l\n",
    "        theta[non_ln,:] = theta_sub.reshape(-1,1)\n",
    "        \n",
    "        return [h,K,G,F,boundary_term,theta]\n"
   ]
  },
  {
   "cell_type": "code",
   "execution_count": 39,
   "id": "636822ee-ca35-41fd-982f-5c3549d24dd5",
   "metadata": {},
   "outputs": [
    {
     "name": "stdout",
     "output_type": "stream",
     "text": [
      "Reading rectangle_vary_0.5_1.msh\n",
      "Number of nodes in the mesh: 9806\n",
      "Number of triangles in the mesh: 19286\n",
      "\n"
     ]
    }
   ],
   "source": [
    "filename = f\"rectangle_vary_0.5_1.msh\"\n",
    "nodecoords,ele_con = read_mesh(filename) #node tags start from 1\n",
    "soln1 = FEM(nodecoords,ele_con,np.array([[50,25]]))"
   ]
  },
  {
   "cell_type": "code",
   "execution_count": 40,
   "id": "a0be3b65-e6b3-4e73-b933-06ed89a78949",
   "metadata": {},
   "outputs": [
    {
     "data": {
      "image/png": "[encoded data removed]",
      "text/plain": [
       "<Figure size 640x480 with 2 Axes>"
      ]
     },
     "metadata": {},
     "output_type": "display_data"
    }
   ],
   "source": [
    "h,K,G,F,boundary,theta = soln1.fit_ele(mode = \"no_source\",verbose = False)\n",
    "gc.collect()\n",
    "plt.tricontourf(nodecoords[:,0],nodecoords[:,1],theta.flatten(),cmap = 'jet')\n",
    "plt.colorbar()\n",
    "plt.gca().set_aspect('equal')\n",
    "plt.show()"
   ]
  },
  {
   "cell_type": "code",
   "execution_count": 36,
   "id": "a95fce32-0925-4d23-ac71-dcb5b3cbc2cf",
   "metadata": {},
   "outputs": [
    {
     "name": "stdout",
     "output_type": "stream",
     "text": [
      "The maximum temperature is 20.17 K and the minimum temperature is 15.00 K\n"
     ]
    }
   ],
   "source": [
    "print(f\"The maximum temperature is {np.max(theta):.2f} K and the minimum temperature is {np.min(theta):.2f} K\")"
   ]
  },
  {
   "cell_type": "code",
   "execution_count": 41,
   "id": "1112c923-52eb-4954-b70b-21c031db9e2c",
   "metadata": {},
   "outputs": [
    {
     "data": {
      "image/png": "[encoded data removed]",
      "text/plain": [
       "<Figure size 640x480 with 2 Axes>"
      ]
     },
     "metadata": {},
     "output_type": "display_data"
    }
   ],
   "source": [
    "K,G,F,boundary,theta = soln1.fit_ele(verbose = False)\n",
    "gc.collect()\n",
    "plt.tricontourf(nodecoords[:,0],nodecoords[:,1],theta.flatten(),cmap = 'jet')\n",
    "plt.colorbar()\n",
    "plt.gca().set_aspect('equal')\n",
    "plt.show()"
   ]
  },
  {
   "cell_type": "code",
   "execution_count": 42,
   "id": "28268097-b9cd-4c43-a7a8-5475764758c8",
   "metadata": {},
   "outputs": [
    {
     "name": "stdout",
     "output_type": "stream",
     "text": [
      "The maximum temperature is 630.49 K and the minimum temperature is 19.63 K\n"
     ]
    }
   ],
   "source": [
    "print(f\"The maximum temperature is {np.max(theta):.2f} K and the minimum temperature is {np.min(theta):.2f} K\")"
   ]
  },
  {
   "cell_type": "markdown",
   "id": "c2611bc6-532f-42d4-896f-d0abe915fb70",
   "metadata": {},
   "source": [
    "## Validation of picard iteration"
   ]
  },
  {
   "cell_type": "code",
   "execution_count": 43,
   "id": "55b94b62-1a00-4e95-96ae-b8709004544d",
   "metadata": {},
   "outputs": [],
   "source": [
    "def Q(point):\n",
    "    x = point[0,0] #in mm\n",
    "    return 15e-3*(x/100)*(1-x/100) ## W/mm^3\n",
    "\n",
    "def k_T(T):\n",
    "    # return np.ones_like(T)*110\n",
    "    return (100+0.004*(T-50-273)**2)*1e-3  ##W/mmK"
   ]
  },
  {
   "cell_type": "code",
   "execution_count": 68,
   "id": "cc68dca2-9728-4f05-bd94-205eac6bf8ae",
   "metadata": {},
   "outputs": [],
   "source": [
    "class Picard_valid:\n",
    "    def __init__(self,nodecoords,elecon):\n",
    "        self.data_line = {\"ips\":{2:[-1/np.sqrt(3),1/np.sqrt(3)],3:[-np.sqrt(3/5),0,np.sqrt(3/5)]},\\\n",
    "        \"weights\":{2:[1,1],3:[5/9,8/9,5/9]}}\n",
    "        self.data_tle = {\"ips\":{1:[[1/3,1/3]],3:[[1/6,1/6],[1/6,2/3],[2/3,1/6]]},\\\n",
    "       \"weights\":{1:[1/2],3:[1/6,1/6,1/6]}}\n",
    "        self.nodecoords = nodecoords\n",
    "        self.elecon = elecon\n",
    "                        \n",
    "    def fit_ele(self,dt,theta_prev_time = None,theta_prev_pic = None,mode = \"linear\",scheme = \"implicit\",verbose = False):\n",
    "        '''\n",
    "        Return mass and stiffness matrices alongside the forcing vector\n",
    "        '''\n",
    "        gp = 3\n",
    "\n",
    "        qo = 0   # W/mm^2\n",
    "        c = 465 #J/kg.K\n",
    "        rho = 7e-6 #kg/mm^3\n",
    "\n",
    "        nodes = self.nodecoords\n",
    "        ele = self.elecon\n",
    "        \n",
    "        ln = np.where(nodes[:,0] == 0)[0]\n",
    "        rn = np.where(nodes[:,0] == np.max(nodes[:,0]))[0]\n",
    "        bn = np.where(nodes[:,1] == 0)[0]\n",
    "        tn = np.where(nodes[:,1] == np.max(nodes[:,1]))[0]\n",
    "        \n",
    "        nop = nodes.shape[0]\n",
    "        ips = np.array(self.data_tle[\"ips\"][gp])\n",
    "        weights = np.array(self.data_tle[\"weights\"][gp])\n",
    "\n",
    "        K_row,K_col,K_data = [],[],[]\n",
    "        M_row,M_col,M_data = [],[],[]\n",
    "\n",
    "        #Parallel processing for matrix computations\n",
    "        items = [(nodes,elei,theta_prev_time,theta_prev_pic,mode,scheme) for elei in ele]\n",
    "        st = time.time()\n",
    "        with Pool(processes = 4) as pool:\n",
    "            results = pool.map(picard_helper, items)\n",
    "        if verbose == True:\n",
    "            print(f\"Time for pooling to end {time.time()-st}\")\n",
    "\n",
    "        #Accumulating data collected over multiprocessing\n",
    "        st = time.time()\n",
    "        K_row, K_col, K_data, M_row, M_col, M_data, F_row,F_data,areas = list(zip(*results))\n",
    "        mega = [K_row, K_col, K_data, M_row, M_col, M_data, F_row,F_data]\n",
    "        K_row, K_col, K_data, M_row, M_col, M_data, F_row,F_data = [flatten(mini) for mini in mega]\n",
    "        if verbose == True:\n",
    "            print(f\"Time for accumulation of data to end {time.time()-st}\")\n",
    "\n",
    "        #Preparing the matrices for calculations\n",
    "        st = time.time()\n",
    "        F= coo_array((F_data,(F_row,[0]*len(F_row))),shape = ((nop,1))).toarray()\n",
    "        \n",
    "        K_sparse = coo_array((K_data,(K_row,K_col)),shape=(nop,nop))\n",
    "        M_sparse = coo_array((M_data,(M_row,M_col)),shape=(nop,nop))\n",
    "        if verbose == True:\n",
    "            print(f\"Time for matrices creation {time.time()-st}\")\n",
    "\n",
    "        #Converting sparse to dense matrix for submatrix extractions\n",
    "        st = time.time()\n",
    "        K = K_sparse.toarray()\n",
    "        M = M_sparse.toarray()\n",
    "\n",
    "        if verbose == True:\n",
    "            print(f\"Time for sparse to dense conversion {time.time()-st}\")\n",
    "        \n",
    "        #setting up the right hand side\n",
    "        T_b = 273+100\n",
    "        non_bn = np.setdiff1d(np.arange(K.shape[0]),bn)\n",
    "        rhs = (F+M@theta_prev_time/dt)\\\n",
    "               -T_b*np.sum(K[np.ix_(np.arange(K.shape[0]),bn)]+M[np.ix_(np.arange(K.shape[0]),bn)]/dt,axis = 1).reshape(-1,1)\n",
    "        \n",
    "        K_sub = K[np.ix_(non_bn,non_bn)]\n",
    "        M_sub = M[np.ix_(non_bn,non_bn)]\n",
    "        rhs_sub = rhs[np.ix_(non_bn,[0])]\n",
    "        theta_sub = np.linalg.inv(K_sub+M_sub/dt)@(rhs_sub)\n",
    "\n",
    "        theta = np.zeros((K.shape[0],1))+T_b\n",
    "        theta[non_bn,:] = theta_sub.reshape(-1,1)\n",
    "        \n",
    "        return [M,K,F,theta]"
   ]
  },
  {
   "cell_type": "code",
   "execution_count": 71,
   "id": "03c0d7db-ace8-4ae9-aea1-f624a9b06a8e",
   "metadata": {},
   "outputs": [],
   "source": [
    "def picard(soln,nodecoords,ele_con,theta_init):\n",
    "    dt = 1\n",
    "    times = np.arange(0,10,dt)\n",
    "    theta_prev_time = theta_init\n",
    "    \n",
    "    for t in times:\n",
    "        e = 1e5\n",
    "        tolerance = 1e-4\n",
    "        iter = 0\n",
    "        theta_prev_pic = theta_prev_time\n",
    "        while(e>tolerance):\n",
    "            iter +=1\n",
    "            M,K,F,theta_new = soln.fit_ele(dt,theta_prev_time = theta_prev_time,theta_prev_pic = theta_prev_pic,mode = \"non_linear\",scheme = \"implicit\")\n",
    "            e = np.linalg.norm(theta_new - theta_prev_pic)\n",
    "            theta_prev_pic = theta_new\n",
    "            if t == round(t):\n",
    "                print(f\"Error at {iter} iteration at time {t} is {e:.2E}\")\n",
    "        theta_prev_time = theta_new\n",
    "        \n",
    "    plt.tricontourf(nodecoords[:,0],nodecoords[:,1],theta_new.flatten()-273, cmap = 'jet')\n",
    "    plt.title(f\"Converged solution\")\n",
    "    plt.colorbar()\n",
    "    plt.show()\n",
    "\n",
    "    return theta_new\n",
    "        "
   ]
  },
  {
   "cell_type": "code",
   "execution_count": 72,
   "id": "4ef871b0-4690-4c4c-9cb2-660d89b132be",
   "metadata": {},
   "outputs": [
    {
     "name": "stdout",
     "output_type": "stream",
     "text": [
      "Reading square_3.msh\n",
      "Number of nodes in the mesh: 380\n",
      "Number of triangles in the mesh: 690\n",
      "\n",
      "Error at 1 iteration at time 0 is 2.34E+02\n",
      "Error at 2 iteration at time 0 is 3.52E+00\n",
      "Error at 3 iteration at time 0 is 3.69E-02\n",
      "Error at 4 iteration at time 0 is 2.79E-04\n",
      "Error at 5 iteration at time 0 is 1.79E-06\n",
      "Error at 1 iteration at time 1 is 6.46E+01\n",
      "Error at 2 iteration at time 1 is 4.82E-01\n",
      "Error at 3 iteration at time 1 is 2.65E-03\n",
      "Error at 4 iteration at time 1 is 1.24E-05\n",
      "Error at 1 iteration at time 2 is 4.52E+01\n",
      "Error at 2 iteration at time 2 is 2.56E-01\n",
      "Error at 3 iteration at time 2 is 1.29E-03\n",
      "Error at 4 iteration at time 2 is 1.17E-05\n",
      "Error at 1 iteration at time 3 is 3.69E+01\n",
      "Error at 2 iteration at time 3 is 1.62E-01\n",
      "Error at 3 iteration at time 3 is 9.17E-04\n",
      "Error at 4 iteration at time 3 is 8.05E-06\n",
      "Error at 1 iteration at time 4 is 3.23E+01\n",
      "Error at 2 iteration at time 4 is 1.15E-01\n",
      "Error at 3 iteration at time 4 is 6.96E-04\n",
      "Error at 4 iteration at time 4 is 5.51E-06\n",
      "Error at 1 iteration at time 5 is 2.92E+01\n",
      "Error at 2 iteration at time 5 is 8.83E-02\n",
      "Error at 3 iteration at time 5 is 5.41E-04\n",
      "Error at 4 iteration at time 5 is 3.93E-06\n",
      "Error at 1 iteration at time 6 is 2.71E+01\n",
      "Error at 2 iteration at time 6 is 7.12E-02\n",
      "Error at 3 iteration at time 6 is 4.29E-04\n",
      "Error at 4 iteration at time 6 is 2.91E-06\n",
      "Error at 1 iteration at time 7 is 2.55E+01\n",
      "Error at 2 iteration at time 7 is 5.96E-02\n",
      "Error at 3 iteration at time 7 is 3.46E-04\n",
      "Error at 4 iteration at time 7 is 2.23E-06\n",
      "Error at 1 iteration at time 8 is 2.42E+01\n",
      "Error at 2 iteration at time 8 is 5.11E-02\n",
      "Error at 3 iteration at time 8 is 2.84E-04\n",
      "Error at 4 iteration at time 8 is 1.75E-06\n",
      "Error at 1 iteration at time 9 is 2.32E+01\n",
      "Error at 2 iteration at time 9 is 4.48E-02\n",
      "Error at 3 iteration at time 9 is 2.36E-04\n",
      "Error at 4 iteration at time 9 is 1.39E-06\n"
     ]
    },
    {
     "data": {
      "image/png": "[encoded data removed]",
      "text/plain": [
       "<Figure size 640x480 with 2 Axes>"
      ]
     },
     "metadata": {},
     "output_type": "display_data"
    }
   ],
   "source": [
    "mesh_size_factor = 3\n",
    "filename = f\"square_{mesh_size_factor}.msh\"\n",
    "nodecoords,ele_con = read_mesh(filename) \n",
    "soln3 = Picard_valid(nodecoords,ele_con)\n",
    "T_b = 273+50\n",
    "theta_init = np.zeros((nodecoords.shape[0],1))+T_b\n",
    "theta_final = picard(soln3,nodecoords,ele_con,theta_init)"
   ]
  },
  {
   "cell_type": "code",
   "execution_count": 77,
   "id": "4e04829e-da25-4055-b311-fa386b2d0116",
   "metadata": {},
   "outputs": [
    {
     "name": "stdout",
     "output_type": "stream",
     "text": [
      "The temperature at node a is 54.74K and at node b is 54.74K\n"
     ]
    }
   ],
   "source": [
    "Ta = theta_final[np.where((nodecoords[:,0] == 0) * (nodecoords[:,1] == 100)) [0][0]]-273\n",
    "Tb = theta_final[np.where((nodecoords[:,0] == 100) * (nodecoords[:,1] == 100)) [0][0]]-273\n",
    "print(f\"The temperature at node a is {Ta[0]:.2f}K and at node b is {Tb[0]:.2f}K\")"
   ]
  },
  {
   "cell_type": "markdown",
   "id": "5102d6fb-5bff-4a9f-b8b5-6de7dd5a3996",
   "metadata": {},
   "source": [
    "## Mesh convergence"
   ]
  },
  {
   "cell_type": "code",
   "execution_count": 93,
   "id": "7f5acceb-f31a-4b78-9458-0e792472d558",
   "metadata": {},
   "outputs": [
    {
     "name": "stdout",
     "output_type": "stream",
     "text": [
      "Reading rectangle_2.msh\n",
      "Number of nodes in the mesh: 1542\n",
      "Number of triangles in the mesh: 2932\n",
      "\n",
      "Reading rectangle_4.msh\n",
      "Number of nodes in the mesh: 425\n",
      "Number of triangles in the mesh: 772\n",
      "\n",
      "Reading rectangle_6.msh\n",
      "Number of nodes in the mesh: 208\n",
      "Number of triangles in the mesh: 362\n",
      "\n"
     ]
    },
    {
     "data": {
      "image/png": "[encoded data removed]",
      "text/plain": [
       "<Figure size 640x480 with 1 Axes>"
      ]
     },
     "metadata": {},
     "output_type": "display_data"
    }
   ],
   "source": [
    "# mesh_name_format = \"rectangle_{}.msh\"\n",
    "mesh_names = [\"rectangle_2.msh\",\"rectangle_4.msh\",\"rectangle_6.msh\"]\n",
    "rep = np.array([50,25,0]).reshape(1,-1)\n",
    "\n",
    "mesh_sizes = []\n",
    "T_reps = []\n",
    "for mesh_name in mesh_names:\n",
    "    nodecoords,ele_con = read_mesh(mesh_name)\n",
    "    soln1 = FEM(nodecoords,ele_con,np.array([[50,25]]))\n",
    "    h,K,G,F,boundary,theta = soln1.fit_ele(mode = \"linear\",verbose = False)\n",
    "    mesh_sizes.append(h)\n",
    "\n",
    "    distances = np.sum(np.square(nodecoords-rep),axis = 1)\n",
    "    closest = np.argmin(distances)\n",
    "    T_reps.append(theta[closest])\n",
    "\n",
    "plt.plot(mesh_sizes,T_reps)\n",
    "plt.title('Mesh convergence')\n",
    "plt.xlabel('Mesh size (mm)')\n",
    "plt.ylabel(r'Temperature at centre ($\\circ$C)')\n",
    "plt.show()\n",
    "    \n",
    "    "
   ]
  },
  {
   "cell_type": "markdown",
   "id": "43f04644-cefc-4e35-a272-5b6e6b64f49e",
   "metadata": {},
   "source": [
    "## Final solution"
   ]
  },
  {
   "cell_type": "code",
   "execution_count": 94,
   "id": "4466e7c3-0d26-414a-8845-54db1d74ffb1",
   "metadata": {},
   "outputs": [],
   "source": [
    "def picard(nodecoords,ele_con,theta_init,source):\n",
    "## the idea is you initialize a temperature profile and find corresponding multipliers for the non linear terms\n",
    "    #non is number of nodes\n",
    "    theta_old = theta_init\n",
    "\n",
    "    e = 1e5\n",
    "    tolerance = 1e-4\n",
    "    iter = 0\n",
    "    \n",
    "    while(e>tolerance):\n",
    "        iter +=1\n",
    "        _,_,_,_,theta_new = FEM(nodecoords,ele_con,source).fit_ele(nodecoords,ele_con,theta_prev_time = theta_init,theta_prev_pic = theta_old,mode = \"non_linear\")\n",
    "        e = np.linalg.norm(theta_new - theta_old)\n",
    "        theta_old = theta_new\n",
    "        print(f\"Error at {iter} iteration is {e:.2E}\")\n",
    "        # print(theta_init)\n",
    "\n",
    "    plt.tricontourf(nodecoords[:,0],nodecoords[:,1],theta_new.flatten())\n",
    "    plt.title(f\"Converged solution after {iter} iterations\")\n",
    "    plt.colorbar()\n",
    "    plt.show()\n",
    "\n",
    "    return theta_new"
   ]
  },
  {
   "cell_type": "code",
   "execution_count": null,
   "id": "c0a6fac6-b3a8-43a0-aa4f-be2e12b53fe4",
   "metadata": {},
   "outputs": [],
   "source": [
    "converged_mesh = \n",
    "nodecoords,ele_con = read_mesh(converged_mesh)"
   ]
  },
  {
   "cell_type": "code",
   "execution_count": null,
   "id": "5b3e35be-afaf-4e67-b34f-8f04e0a22d26",
   "metadata": {},
   "outputs": [],
   "source": [
    "T_l = 273+500\n",
    "vo = 2 #mm/s\n",
    "t_final = 10\n",
    "times = np.arange(0,t_final,1)\n",
    "theta_init = np.zeros((nodecoords.shape[0],1))+T_l\n",
    "theta_prev = theta_init\n",
    "#Let's move the source\n",
    "x_source = 50\n",
    "for t in times:\n",
    "    print(f\"Time is {t} seconds\")\n",
    "    theta_final = picard(nodecoords,ele_con,theta_prev,source = np.array([[x_source+vo*t,25]]))\n",
    "    theta_prev = theta_final"
   ]
  }
 ],
 "metadata": {
  "kernelspec": {
   "display_name": "Python 3 (ipykernel)",
   "language": "python",
   "name": "python3"
  },
  "language_info": {
   "codemirror_mode": {
    "name": "ipython",
    "version": 3
   },
   "file_extension": ".py",
   "mimetype": "text/x-python",
   "name": "python",
   "nbconvert_exporter": "python",
   "pygments_lexer": "ipython3",
   "version": "3.12.4"
  }
 },
 "nbformat": 4,
 "nbformat_minor": 5
}
